{
  "nbformat": 4,
  "nbformat_minor": 0,
  "metadata": {
    "colab": {
      "provenance": [],
      "collapsed_sections": [
        "BCleRtX43caS",
        "KBbGNTtQ47mJ",
        "ExIxsv4y-oEd",
        "OcQhJvXVALgp",
        "sEsGEqOHCSWG",
        "v1M5Yh9ZZO0z"
      ],
      "include_colab_link": true
    },
    "kernelspec": {
      "name": "python3",
      "display_name": "Python 3"
    },
    "language_info": {
      "name": "python"
    }
  },
  "cells": [
    {
      "cell_type": "markdown",
      "metadata": {
        "id": "view-in-github",
        "colab_type": "text"
      },
      "source": [
        "<a href=\"https://colab.research.google.com/github/sohil344/python_practise/blob/main/OOPsTask.ipynb\" target=\"_parent\"><img src=\"https://colab.research.google.com/assets/colab-badge.svg\" alt=\"Open In Colab\"/></a>"
      ]
    },
    {
      "cell_type": "markdown",
      "source": [
        "### `Problem-1:` Class inheritence\n",
        "\n",
        "Create a **Bus** child class that inherits from the Vehicle class. The default fare charge of any vehicle is seating capacity * 100. If Vehicle is Bus instance, we need to add an extra 10% on full fare as a maintenance charge. So total fare for bus instance will become the final amount = total fare + 10% of the total fare.\n",
        "\n",
        "Note: The bus seating capacity is 50. so the final fare amount should be 5500. You need to override the fare() method of a Vehicle class in Bus class."
      ],
      "metadata": {
        "id": "BCleRtX43caS"
      }
    },
    {
      "cell_type": "code",
      "execution_count": 5,
      "metadata": {
        "colab": {
          "base_uri": "https://localhost:8080/"
        },
        "id": "6jVFCXKz3YZI",
        "outputId": "0a5e0866-fbe9-407e-8e21-1174c75eef66"
      },
      "outputs": [
        {
          "output_type": "stream",
          "name": "stdout",
          "text": [
            "5500.0\n"
          ]
        }
      ],
      "source": [
        "# Write code here\n",
        "\n",
        "class vehicle:\n",
        "\n",
        "  def __init__(self,type,capacity):\n",
        "    self.type=type\n",
        "    self.capacity=capacity\n",
        "\n",
        "  def fare(self):\n",
        "    return self.capacity*100\n",
        "\n",
        "class Bus(vehicle):\n",
        "\n",
        "  def bus_fare(self):\n",
        "    base_fare=super().fare()\n",
        "    total_fare=base_fare+0.1*base_fare\n",
        "    return total_fare\n",
        "\n",
        "bus=Bus('school_bus',50)\n",
        "print(bus.bus_fare())\n",
        "\n",
        "\n"
      ]
    },
    {
      "cell_type": "markdown",
      "source": [
        "### `Problem-2:` Class Inheritence\n",
        "\n",
        "Create a Bus class that inherits from the Vehicle class. Give the capacity argument of *Bus.seating_capacity()* a default value of 50.\n",
        "\n",
        "Use the following code for your parent Vehicle class."
      ],
      "metadata": {
        "id": "KBbGNTtQ47mJ"
      }
    },
    {
      "cell_type": "code",
      "source": [],
      "metadata": {
        "id": "MwOnYE_14M-r"
      },
      "execution_count": null,
      "outputs": []
    },
    {
      "cell_type": "code",
      "source": [],
      "metadata": {
        "id": "Py5Gr0ip5OBB"
      },
      "execution_count": null,
      "outputs": []
    },
    {
      "cell_type": "markdown",
      "source": [
        "### `Problem-3:` Write a program that has a class Point. Define another class Location which has two objects (Location & Destination) of class Point. Also define a function in Location that prints the reflection of Destination on the x axis."
      ],
      "metadata": {
        "id": "ExIxsv4y-oEd"
      }
    },
    {
      "cell_type": "code",
      "source": [
        "class point:\n",
        "\n",
        "  def __init__(self,x,y):\n",
        "    self.x=x\n",
        "    self.y=y\n",
        "\n",
        "  def show_points(self):\n",
        "    return '{} {}'.format(self.x,self.y)\n",
        "  \n",
        "class Location:\n",
        "\n",
        "  def __init__(self,x1,y1,x2,y2):\n",
        "    self.source=point(x1,y1)\n",
        "    self.destination=point(x2,y2)\n",
        "  \n",
        "  def show(self):\n",
        "    print('Source is ',self.source.show_points())\n",
        "    print(\"Destination is \",self.destination.show_points())\n",
        "\n",
        "  def reflection(self):\n",
        "    self.destination.y=-self.destination.y\n",
        "    print(\"Reflection is \",self.destination.show_points())\n",
        "\n",
        "L=Location(0,0,1,1)\n",
        "L.show()\n",
        "L.reflection()\n",
        "\n",
        "\n"
      ],
      "metadata": {
        "id": "yT2QtzQp5VAB",
        "outputId": "9825c6b4-2230-4271-fad2-8b7c9eb83cb9",
        "colab": {
          "base_uri": "https://localhost:8080/"
        }
      },
      "execution_count": 11,
      "outputs": [
        {
          "output_type": "stream",
          "name": "stdout",
          "text": [
            "Source is  0 0\n",
            "Destination is  1 1\n",
            "Reflection is  1 -1\n"
          ]
        }
      ]
    },
    {
      "cell_type": "markdown",
      "source": [
        "### `Problem-4:` Write a program that has an abstract class Polygon. Derive two classes Rectangle and Triamgle from Polygon and write methods to get the details of their dimensions and hence calculate the area."
      ],
      "metadata": {
        "id": "OcQhJvXVALgp"
      }
    },
    {
      "cell_type": "code",
      "source": [
        "from abc import ABC,abstractmethod\n",
        "\n",
        "class Polygon(ABC):\n",
        "\n",
        "  @abstractmethod\n",
        "  def get_data():\n",
        "    pass\n",
        "  \n",
        "  @abstractmethod\n",
        "  def area():\n",
        "    pass\n",
        "\n",
        "class Rectangle(Polygon):\n",
        "\n",
        "  def get_data(self,l,b):\n",
        "    self.l=l\n",
        "    self.b=b\n",
        "  def area(self):\n",
        "    return self.l*self.b\n",
        "  \n",
        "class Triangle(Polygon):\n",
        "\n",
        "  def get_data(self,b,h):\n",
        "    self.b=b\n",
        "    self.h=h\n",
        "  def area(self):\n",
        "    return 0.5*self.b*self.h\n",
        "\n",
        "rect=Rectangle()\n",
        "rect.get_data(4,5)\n",
        "print(rect.area())\n",
        "\n",
        "tri=Triangle()\n",
        "tri.get_data(4,5)\n",
        "tri.area()\n"
      ],
      "metadata": {
        "id": "9IMrtdUH__eA",
        "outputId": "34bea8d0-8e51-4470-bdb9-8e8723a8a4e5",
        "colab": {
          "base_uri": "https://localhost:8080/"
        }
      },
      "execution_count": 15,
      "outputs": [
        {
          "output_type": "stream",
          "name": "stdout",
          "text": [
            "20\n"
          ]
        },
        {
          "output_type": "execute_result",
          "data": {
            "text/plain": [
              "10.0"
            ]
          },
          "metadata": {},
          "execution_count": 15
        }
      ]
    },
    {
      "cell_type": "markdown",
      "source": [
        "### `Problem-5:` Write a program with class Bill. The users have the option to pay the bill either by cheque or by cash. Use the inheritance to model this situation."
      ],
      "metadata": {
        "id": "sEsGEqOHCSWG"
      }
    },
    {
      "cell_type": "code",
      "source": [
        "class Bill:\n",
        "\n",
        "  def __init__(self,items,price):\n",
        "    self.total=0\n",
        "    self.item=items\n",
        "    self.price=price\n",
        "\n",
        "    for i in self.price:\n",
        "      self.total=self.total+i\n",
        "    \n",
        "  def display(self):\n",
        "    print(\"Item \\t\\t Price\")\n",
        "    for i in range(len(self.item)):\n",
        "      print(self.item[i], '\\t',self.price[i])\n",
        "    print('*'*10)\n",
        "  \n",
        "    print(\"Total\",self.total)\n",
        "  \n",
        "class CashPayment(Bill):\n",
        "\n",
        "  def __init__(self,items,price,deno,value):\n",
        "    super().__init__(items,price)\n",
        "\n",
        "    self.deno=deno\n",
        "    self.value=value\n",
        "  \n",
        "  def show_cash_payemnt(self):\n",
        "\n",
        "    super().display()\n",
        "    for i in range(len(self.deno)):\n",
        "      print(self.deno[i],'*',self.value[i],'=',self.deno[i]*self.value[i])\n",
        "\n",
        "class ChequePayment(Bill):\n",
        "\n",
        "  def __init__(self,items,price,chno,Bank_name):\n",
        "\n",
        "    super().__init__(items,price)\n",
        "\n",
        "    self.cno=chno\n",
        "    self.name=Bank_name\n",
        "\n",
        "  def show_cheque_payment(self):\n",
        "    super().display()\n",
        "\n",
        "    print('Cheque No',self.cno)\n",
        "    print(\"Bank Name\",self.name)\n",
        "\n",
        "      \n",
        "\n",
        "  \n",
        "\n",
        "    \n",
        "\n"
      ],
      "metadata": {
        "id": "l0WFyP2PB3nf"
      },
      "execution_count": 23,
      "outputs": []
    },
    {
      "cell_type": "code",
      "source": [
        "items = [\"External Hard Disk\", \"RAM\", \"Printer\", \"Pen Drive\"]\n",
        "price = [5000, 2000, 6000, 800]\n",
        "\n",
        "deno = [10, 20, 50, 100, 500, 2000]\n",
        "value = [1, 1, 1, 20, 4, 5]\n",
        "cash = CashPayment(items, price, deno, value)\n",
        "cash.show_cash_payemnt()"
      ],
      "metadata": {
        "id": "zbDkTWwkeJ7U",
        "outputId": "3ba0b6fa-7769-4e4d-92e8-b57737d10d58",
        "colab": {
          "base_uri": "https://localhost:8080/"
        }
      },
      "execution_count": 24,
      "outputs": [
        {
          "output_type": "stream",
          "name": "stdout",
          "text": [
            "Item \t\t Price\n",
            "External Hard Disk \t 5000\n",
            "RAM \t 2000\n",
            "Printer \t 6000\n",
            "Pen Drive \t 800\n",
            "**********\n",
            "Total 13800\n",
            "10 * 1 = 10\n",
            "20 * 1 = 20\n",
            "50 * 1 = 50\n",
            "100 * 20 = 2000\n",
            "500 * 4 = 2000\n",
            "2000 * 5 = 10000\n"
          ]
        }
      ]
    },
    {
      "cell_type": "code",
      "source": [
        "items = [\"External Hard Disk\", \"RAM\", \"Printer\", \"Pen Drive\"]\n",
        "price = [5000, 2000, 6000, 800]\n",
        "option = int(input(\"Would you like to pay by cheque or cash (1/2): \"))\n",
        "\n",
        "if option == 1:\n",
        "    name = input(\"Enter the name of the bank: \")\n",
        "    cno = input(\"Enter the cheque number: \")\n",
        "    cheque = ChequePayment(items, price, cno, name)\n",
        "    cheque.show_cheque_payment()\n",
        "\n",
        "else:\n",
        "    deno = [10, 20, 50, 100, 500, 2000]\n",
        "    value = [1, 1, 1, 20, 4, 5]\n",
        "    cash = CashPayment(items, price, deno, value)\n",
        "    cash.show_cash_payment()"
      ],
      "metadata": {
        "id": "5wQtm69_el1y",
        "outputId": "41bfd2d1-7e04-4189-95e7-2cca1569327f",
        "colab": {
          "base_uri": "https://localhost:8080/"
        }
      },
      "execution_count": 25,
      "outputs": [
        {
          "output_type": "stream",
          "name": "stdout",
          "text": [
            "Would you like to pay by cheque or cash (1/2): 1\n",
            "Enter the name of the bank: BOB\n",
            "Enter the cheque number: kjnkk223\n",
            "Item \t\t Price\n",
            "External Hard Disk \t 5000\n",
            "RAM \t 2000\n",
            "Printer \t 6000\n",
            "Pen Drive \t 800\n",
            "**********\n",
            "Total 13800\n",
            "Cheque No kjnkk223\n",
            "Bank Name BOB\n"
          ]
        }
      ]
    },
    {
      "cell_type": "markdown",
      "source": [
        "###`Q-6:` FlexibleDict\n",
        "As of now we are accessing values from dictionary with exact keys. Now we want to amend accessing values functionality. if a dict have key `1` (int) the even if we try to access values by giving `'1'` (1 as str) as key, we should get the same result and vice versa.\n",
        "\n",
        "Write a class `FlexibleDict` upon builtin `dict` class with above required functionality.\n",
        "\n",
        "Hint- `dict[key] => dict.__getitem__(key)` "
      ],
      "metadata": {
        "id": "v1M5Yh9ZZO0z"
      }
    },
    {
      "cell_type": "markdown",
      "source": [
        "Ex.\n",
        "```\n",
        "fd = FlexibleDict()\n",
        "fd['a'] = 100\n",
        "print(fd['a']) # Like regular dict\n",
        "\n",
        "fd[5] = 500\n",
        "print(fd[5]) # Like regular dict\n",
        "\n",
        "fd[1] = 100\n",
        "print(fd['1']) # actual Key is int but still trying to access through str key.\n",
        "fd['1'] = 100\n",
        "print(fd[1])\n",
        "\n",
        "```\n",
        "`Output:`\n",
        "```\n",
        "100\n",
        "500\n",
        "100\n",
        "100\n",
        "\n",
        "```"
      ],
      "metadata": {
        "id": "uajGeWegbfda"
      }
    },
    {
      "cell_type": "code",
      "source": [],
      "metadata": {
        "id": "OHLbOtCxZ2nw"
      },
      "execution_count": null,
      "outputs": []
    },
    {
      "cell_type": "code",
      "source": [],
      "metadata": {
        "id": "7NM8r__dmeMf"
      },
      "execution_count": null,
      "outputs": []
    },
    {
      "cell_type": "code",
      "source": [],
      "metadata": {
        "id": "waHSud8Ymkz-"
      },
      "execution_count": null,
      "outputs": []
    }
  ]
}