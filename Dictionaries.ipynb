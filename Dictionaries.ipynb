{
  "nbformat": 4,
  "nbformat_minor": 0,
  "metadata": {
    "colab": {
      "provenance": [],
      "authorship_tag": "ABX9TyOUgRQDExHuaLAWQmxbGQNR",
      "include_colab_link": true
    },
    "kernelspec": {
      "name": "python3",
      "display_name": "Python 3"
    },
    "language_info": {
      "name": "python"
    }
  },
  "cells": [
    {
      "cell_type": "markdown",
      "metadata": {
        "id": "view-in-github",
        "colab_type": "text"
      },
      "source": [
        "<a href=\"https://colab.research.google.com/github/sohil344/python_practise/blob/main/Dictionaries.ipynb\" target=\"_parent\"><img src=\"https://colab.research.google.com/assets/colab-badge.svg\" alt=\"Open In Colab\"/></a>"
      ]
    },
    {
      "cell_type": "code",
      "execution_count": null,
      "metadata": {
        "colab": {
          "base_uri": "https://localhost:8080/"
        },
        "id": "a5tKNdixPDK1",
        "outputId": "c636eadc-e6e0-4cf9-83c3-4403e238db23"
      },
      "outputs": [
        {
          "output_type": "stream",
          "name": "stdout",
          "text": [
            "{'Ten': 10, 'Twenty': 20, 'Thirty': 30}\n"
          ]
        }
      ],
      "source": [
        "keys = ['Ten', 'Twenty', 'Thirty']\n",
        "values = [10, 20, 30]\n",
        "k={}\n",
        "res=dict()\n",
        "for i in keys  :\n",
        "  for j in values:\n",
        "   k[i]=j\n",
        "#print(k)\n",
        "\n",
        "#print(dict(zip(keys,values)))\n",
        "\n",
        "for i in range(len(keys)):\n",
        "  res.update({keys[i]:values[i]})\n",
        "print(res)\n"
      ]
    },
    {
      "cell_type": "code",
      "source": [
        "# Merge two Python dictionaries into one\n",
        "\n",
        "dict1 = {'Ten': 10, 'Twenty': 20, 'Thirty': 30}\n",
        "dict2 = {'Thirty': 30, 'Fourty': 40, 'Fifty': 50}\n",
        "\n",
        "dict1.update(dict2)\n",
        "print(dict1)\n"
      ],
      "metadata": {
        "colab": {
          "base_uri": "https://localhost:8080/"
        },
        "id": "DzXEFXgDVMSZ",
        "outputId": "1db54bb4-bf84-437e-d988-507ad2433430"
      },
      "execution_count": null,
      "outputs": [
        {
          "output_type": "stream",
          "name": "stdout",
          "text": [
            "{'Ten': 10, 'Twenty': 20, 'Thirty': 30, 'Fourty': 40, 'Fifty': 50}\n"
          ]
        }
      ]
    },
    {
      "cell_type": "code",
      "source": [
        "#Print the value of key ‘history’ from the below dict\n",
        "\n",
        "sampleDict = {\n",
        "    \"class\": {\n",
        "        \"student\": {\n",
        "            \"name\": \"Mike\",\n",
        "            \"marks\": {\n",
        "                \"physics\": 70,\n",
        "                \"history\": 80\n",
        "            }\n",
        "        }\n",
        "    }\n",
        "}"
      ],
      "metadata": {
        "id": "t3CKvuXDZ9Wl"
      },
      "execution_count": null,
      "outputs": []
    },
    {
      "cell_type": "code",
      "source": [
        "sampleDict['class']['student']['marks']['history']"
      ],
      "metadata": {
        "colab": {
          "base_uri": "https://localhost:8080/"
        },
        "id": "GLV72PziaWZz",
        "outputId": "757c8b5f-4583-4e19-8536-2a48fc72b03d"
      },
      "execution_count": null,
      "outputs": [
        {
          "output_type": "execute_result",
          "data": {
            "text/plain": [
              "80"
            ]
          },
          "metadata": {},
          "execution_count": 14
        }
      ]
    },
    {
      "cell_type": "code",
      "source": [
        "#Exercise 4: Initialize dictionary with default values\n",
        "employees = ['Kelly', 'Emma']\n",
        "defaults = {\"designation\": 'Developer', \"salary\": 8000}\n",
        "\n",
        "k={}\n",
        "\n",
        "for i in employees:\n",
        "  k[i]=defaults\n",
        "print(k)  "
      ],
      "metadata": {
        "colab": {
          "base_uri": "https://localhost:8080/"
        },
        "id": "gXFA_ghmcFtG",
        "outputId": "5c3e1aef-65d7-4068-f729-07e0ffcfd5bc"
      },
      "execution_count": null,
      "outputs": [
        {
          "output_type": "stream",
          "name": "stdout",
          "text": [
            "{'Kelly': {'designation': 'Developer', 'salary': 8000}, 'Emma': {'designation': 'Developer', 'salary': 8000}}\n"
          ]
        }
      ]
    },
    {
      "cell_type": "code",
      "source": [
        "# Create a dictionary by extracting the keys from a given dictionary\n",
        "sample_dict = {\n",
        "    \"name\": \"Kelly\",\n",
        "    \"age\": 25,\n",
        "    \"salary\": 8000,\n",
        "    \"city\": \"New york\"}\n",
        "k={}\n",
        "# Keys to extract\n",
        "keys = [\"name\", \"salary\"]\n",
        "\n",
        "for i in keys:\n",
        "  k[i]=sample_dict[i]\n",
        "print(k)"
      ],
      "metadata": {
        "colab": {
          "base_uri": "https://localhost:8080/"
        },
        "id": "CmAVFX2-fGIJ",
        "outputId": "6cfd8fec-5706-46aa-91e7-5d2d18df4962"
      },
      "execution_count": null,
      "outputs": [
        {
          "output_type": "stream",
          "name": "stdout",
          "text": [
            "{'name': 'Kelly', 'salary': 8000}\n"
          ]
        }
      ]
    },
    {
      "cell_type": "code",
      "source": [
        "# Delete a list of keys from a dictionary\n",
        "\n",
        "sample_dict = {\n",
        "    \"name\": \"Kelly\",\n",
        "    \"age\": 25,\n",
        "    \"salary\": 8000,\n",
        "    \"city\": \"New york\"\n",
        "}\n",
        "\n",
        "\n",
        "# Keys to remove\n",
        "keys = [\"name\", \"salary\"]\n",
        "\n",
        "for i in keys:\n",
        "  sample_dict.pop(i)\n",
        "print(sample_dict)\n",
        "\n"
      ],
      "metadata": {
        "colab": {
          "base_uri": "https://localhost:8080/"
        },
        "id": "oYfqoxJKhNtg",
        "outputId": "cd72043d-2311-49af-bb50-0a2b327c218f"
      },
      "execution_count": null,
      "outputs": [
        {
          "output_type": "stream",
          "name": "stdout",
          "text": [
            "{'age': 25, 'city': 'New york'}\n"
          ]
        }
      ]
    },
    {
      "cell_type": "code",
      "source": [
        "#Check if a value exists in a dictionary\n",
        "\n",
        "sample_dict = {'a': 100, 'b': 200, 'c': 300}\n",
        "\n",
        "if 500 in sample_dict.values():\n",
        "  print('yes')\n",
        "else:\n",
        "  print('No')"
      ],
      "metadata": {
        "colab": {
          "base_uri": "https://localhost:8080/"
        },
        "id": "FZkaTUWYhta_",
        "outputId": "b3fd3b33-3950-4956-f7ee-6830f69b6b72"
      },
      "execution_count": null,
      "outputs": [
        {
          "output_type": "stream",
          "name": "stdout",
          "text": [
            "No\n"
          ]
        }
      ]
    },
    {
      "cell_type": "code",
      "source": [
        "# Rename key of a dictionary\n",
        "sample_dict = {\n",
        "  \"name\": \"Kelly\",\n",
        "  \"age\":25,\n",
        "  \"salary\": 8000,\n",
        "  \"city\": \"New york\"\n",
        "}\n",
        "\n",
        "sample_dict['Location']=sample_dict.pop('city')\n",
        "sample_dict"
      ],
      "metadata": {
        "colab": {
          "base_uri": "https://localhost:8080/"
        },
        "id": "oK4P1WUEjXgj",
        "outputId": "e65bd4c5-a755-4fb9-c834-cf61cf1e580c"
      },
      "execution_count": null,
      "outputs": [
        {
          "output_type": "execute_result",
          "data": {
            "text/plain": [
              "{'name': 'Kelly', 'age': 25, 'salary': 8000, 'Location': 'New york'}"
            ]
          },
          "metadata": {},
          "execution_count": 29
        }
      ]
    },
    {
      "cell_type": "code",
      "source": [
        "#Get the key of a minimum value from the following dictionary\n",
        "sample_dict = {\n",
        "  'Physics': 82,\n",
        "  'Chemistry': 65,\n",
        "  'history': 75\n",
        "}\n",
        "print(min(sample_dict, key=sample_dict.get))\n",
        "value=min(sample_dict.values())\n",
        "key=[i for i in sample_dict if sample_dict[i]==value]\n",
        "print(key)"
      ],
      "metadata": {
        "colab": {
          "base_uri": "https://localhost:8080/"
        },
        "id": "vPbfZmfok_YR",
        "outputId": "d7527181-65c5-4cab-9ffe-2b6f987dbadb"
      },
      "execution_count": null,
      "outputs": [
        {
          "output_type": "stream",
          "name": "stdout",
          "text": [
            "Chemistry\n",
            "['Chemistry']\n"
          ]
        }
      ]
    },
    {
      "cell_type": "code",
      "source": [
        "# Change value of a key in a nested dictionary\n",
        "#Write a Python program to change Brad’s salary to 8500 in the following dictionary.\n",
        "\n",
        "sample_dict = {\n",
        "    'emp1': {'name': 'Jhon', 'salary': 7500},\n",
        "    'emp2': {'name': 'Emma', 'salary': 8000},\n",
        "    'emp3': {'name': 'Brad', 'salary': 500}\n",
        "}\n",
        "\n",
        "change='Brad'\n",
        "salary_change=8500\n",
        "for i in sample_dict:\n",
        "  \n",
        "  if (sample_dict[i]['name']=='Brad'):\n",
        "    sample_dict[i]['salary']=8500\n",
        "  \n",
        "print(sample_dict)"
      ],
      "metadata": {
        "colab": {
          "base_uri": "https://localhost:8080/"
        },
        "id": "o6vUnukdosNJ",
        "outputId": "03c582a2-a853-43e7-f9a7-c42cde2c9ddc"
      },
      "execution_count": null,
      "outputs": [
        {
          "output_type": "stream",
          "name": "stdout",
          "text": [
            "{'emp1': {'name': 'Jhon', 'salary': 7500}, 'emp2': {'name': 'Emma', 'salary': 8000}, 'emp3': {'name': 'Brad', 'salary': 8500}}\n"
          ]
        }
      ]
    },
    {
      "cell_type": "code",
      "source": [
        "#Write a Python script to add a key to a dictionary. Go to the editor\n",
        "\n",
        "a= {0: 10, 1: 20}\n",
        "a[2]=30\n",
        "a"
      ],
      "metadata": {
        "colab": {
          "base_uri": "https://localhost:8080/"
        },
        "id": "IFf69q1q-y89",
        "outputId": "f10fc8d9-c120-4c3f-b415-cfa8a47252cf"
      },
      "execution_count": null,
      "outputs": [
        {
          "output_type": "execute_result",
          "data": {
            "text/plain": [
              "{0: 10, 1: 20, 2: 30}"
            ]
          },
          "metadata": {},
          "execution_count": 50
        }
      ]
    },
    {
      "cell_type": "code",
      "source": [
        "# Write a Python script to concatenate the following dictionaries to create a new one. Go to the editor\n",
        "\n",
        "\n",
        "dic1={1:10, 2:20}\n",
        "dic2={3:30, 4:40}\n",
        "dic3={5:50,6:60}\n",
        "\n",
        "dic4={}\n",
        "for d in (dic1,dic2,dic3):\n",
        "  dic4.update(d)\n",
        "print(dic4)  "
      ],
      "metadata": {
        "colab": {
          "base_uri": "https://localhost:8080/"
        },
        "id": "x7jK-97K-69g",
        "outputId": "6fc9396e-81f0-49dd-8740-71713248abfa"
      },
      "execution_count": null,
      "outputs": [
        {
          "output_type": "stream",
          "name": "stdout",
          "text": [
            "{1: 10, 2: 20, 3: 30, 4: 40, 5: 50, 6: 60}\n"
          ]
        }
      ]
    },
    {
      "cell_type": "code",
      "source": [
        "n=5\n",
        "b={}\n",
        "for i in range(1,n+1):\n",
        "  b[i]=i*i\n",
        "b\n"
      ],
      "metadata": {
        "colab": {
          "base_uri": "https://localhost:8080/"
        },
        "id": "1D1fi2kG_Jk7",
        "outputId": "ad42eef3-8786-48f9-e0c1-9c7423a99fd6"
      },
      "execution_count": null,
      "outputs": [
        {
          "output_type": "execute_result",
          "data": {
            "text/plain": [
              "{1: 1, 2: 4, 3: 9, 4: 16, 5: 25}"
            ]
          },
          "metadata": {},
          "execution_count": 57
        }
      ]
    },
    {
      "cell_type": "code",
      "source": [
        "# Write a Python program to sum all the items in a dictionary.\n",
        "\n",
        "my_dict = {'data1':100,'data2':-54,'data3':247}\n",
        "print(sum(my_dict.values()))"
      ],
      "metadata": {
        "colab": {
          "base_uri": "https://localhost:8080/"
        },
        "id": "o-DQXxLSB2j2",
        "outputId": "dd69089a-0b39-4014-fe00-0260b3c25cf4"
      },
      "execution_count": null,
      "outputs": [
        {
          "output_type": "stream",
          "name": "stdout",
          "text": [
            "293\n"
          ]
        }
      ]
    },
    {
      "cell_type": "code",
      "source": [
        "# Write a Python program to sort a given dictionary by key.\n",
        "color_dict = {'red':1,\n",
        "          'green':10,\n",
        "          'black':20,\n",
        "          'white':80}\n",
        "for value in sorted(color_dict.values()):\n",
        "  \n"
      ],
      "metadata": {
        "colab": {
          "base_uri": "https://localhost:8080/",
          "height": 200
        },
        "id": "GsOekRw1DSh7",
        "outputId": "053897c1-a536-4e93-eb48-2bad9aa44ebc"
      },
      "execution_count": null,
      "outputs": [
        {
          "output_type": "error",
          "ename": "KeyError",
          "evalue": "ignored",
          "traceback": [
            "\u001b[0;31m---------------------------------------------------------------------------\u001b[0m",
            "\u001b[0;31mKeyError\u001b[0m                                  Traceback (most recent call last)",
            "\u001b[0;32m<ipython-input-10-99daef9636cb>\u001b[0m in \u001b[0;36m<module>\u001b[0;34m\u001b[0m\n\u001b[1;32m      5\u001b[0m           'white':80}\n\u001b[1;32m      6\u001b[0m \u001b[0;32mfor\u001b[0m \u001b[0mkey\u001b[0m \u001b[0;32min\u001b[0m \u001b[0msorted\u001b[0m\u001b[0;34m(\u001b[0m\u001b[0mcolor_dict\u001b[0m\u001b[0;34m.\u001b[0m\u001b[0mvalues\u001b[0m\u001b[0;34m(\u001b[0m\u001b[0;34m)\u001b[0m\u001b[0;34m)\u001b[0m\u001b[0;34m:\u001b[0m\u001b[0;34m\u001b[0m\u001b[0;34m\u001b[0m\u001b[0m\n\u001b[0;32m----> 7\u001b[0;31m   \u001b[0mprint\u001b[0m\u001b[0;34m(\u001b[0m\u001b[0;34m\"%s : %s\"\u001b[0m \u001b[0;34m%\u001b[0m \u001b[0;34m(\u001b[0m\u001b[0mkey\u001b[0m\u001b[0;34m,\u001b[0m\u001b[0mcolor_dict\u001b[0m\u001b[0;34m[\u001b[0m\u001b[0mkey\u001b[0m\u001b[0;34m]\u001b[0m\u001b[0;34m)\u001b[0m\u001b[0;34m)\u001b[0m\u001b[0;34m\u001b[0m\u001b[0;34m\u001b[0m\u001b[0m\n\u001b[0m",
            "\u001b[0;31mKeyError\u001b[0m: 1"
          ]
        }
      ]
    },
    {
      "cell_type": "code",
      "source": [
        "color_dict = {'red':1,'green':10,'black':20,'white':80}\n",
        "print(sorted(color_dict.items(), key=operator.itemgetter(1)))          "
      ],
      "metadata": {
        "colab": {
          "base_uri": "https://localhost:8080/",
          "height": 200
        },
        "id": "2Vo_9QCxI8rw",
        "outputId": "f55c656b-970c-42ad-ebb9-66f70ed63e9f"
      },
      "execution_count": null,
      "outputs": [
        {
          "output_type": "error",
          "ename": "TypeError",
          "evalue": "ignored",
          "traceback": [
            "\u001b[0;31m---------------------------------------------------------------------------\u001b[0m",
            "\u001b[0;31mTypeError\u001b[0m                                 Traceback (most recent call last)",
            "\u001b[0;32m<ipython-input-12-d9efe8df8154>\u001b[0m in \u001b[0;36m<module>\u001b[0;34m\u001b[0m\n\u001b[1;32m      3\u001b[0m           \u001b[0;34m'black'\u001b[0m\u001b[0;34m:\u001b[0m\u001b[0;36m20\u001b[0m\u001b[0;34m,\u001b[0m\u001b[0;34m\u001b[0m\u001b[0;34m\u001b[0m\u001b[0m\n\u001b[1;32m      4\u001b[0m           'white':80}\n\u001b[0;32m----> 5\u001b[0;31m \u001b[0mprint\u001b[0m\u001b[0;34m(\u001b[0m\u001b[0msorted\u001b[0m\u001b[0;34m(\u001b[0m\u001b[0mcolor_dict\u001b[0m\u001b[0;34m.\u001b[0m\u001b[0mitems\u001b[0m\u001b[0;34m(\u001b[0m\u001b[0;34m)\u001b[0m\u001b[0;34m,\u001b[0m\u001b[0mkey\u001b[0m\u001b[0;34m=\u001b[0m\u001b[0mcolor_dict\u001b[0m\u001b[0;34m.\u001b[0m\u001b[0mvalues\u001b[0m\u001b[0;34m(\u001b[0m\u001b[0;34m)\u001b[0m\u001b[0;34m)\u001b[0m\u001b[0;34m)\u001b[0m\u001b[0;34m\u001b[0m\u001b[0;34m\u001b[0m\u001b[0m\n\u001b[0m",
            "\u001b[0;31mTypeError\u001b[0m: 'dict_values' object is not callable"
          ]
        }
      ]
    },
    {
      "cell_type": "code",
      "source": [
        "my_dict = {'x':500, 'y':5874, 'z': 560}\n",
        "key_max=max(my_dict.keys(), key=(lambda k: my_dict[k]))\n",
        "key_min=min(my_dict.keys(), key=(lambda k:my_dict[k]))\n",
        "\n",
        "print(key_max,key_min)"
      ],
      "metadata": {
        "colab": {
          "base_uri": "https://localhost:8080/"
        },
        "id": "ep0t0w-WD87U",
        "outputId": "786c1a5e-baa1-416c-cad5-10e37b9e41b8"
      },
      "execution_count": null,
      "outputs": [
        {
          "output_type": "stream",
          "name": "stdout",
          "text": [
            "y x\n"
          ]
        }
      ]
    },
    {
      "cell_type": "code",
      "source": [
        "# create dictionary using class obj\n",
        "\n",
        "class distobj(object):\n",
        "  def __init__(self):\n",
        "    self.x='red'\n",
        "    self.y='Green'\n",
        "    self.z='Yellow'\n",
        "\n",
        "\n",
        "\n",
        "test=distobj()\n",
        "print(test.__dict__)"
      ],
      "metadata": {
        "colab": {
          "base_uri": "https://localhost:8080/"
        },
        "id": "ECavamN8KyLn",
        "outputId": "e56f47d7-3682-4107-ba49-03f0b8a0711e"
      },
      "execution_count": null,
      "outputs": [
        {
          "output_type": "stream",
          "name": "stdout",
          "text": [
            "{'x': 'red', 'y': 'Green', 'z': 'Yellow'}\n"
          ]
        }
      ]
    },
    {
      "cell_type": "code",
      "source": [
        "student_data = {'id1': \n",
        "   {'name': ['Sara'], \n",
        "    'class': ['V'], \n",
        "    'subject_integration': ['english, math, science']\n",
        "   },\n",
        " 'id2': \n",
        "  {'name': ['David'], \n",
        "    'class': ['V'], \n",
        "    'subject_integration': ['english, math, science']\n",
        "   },\n",
        " 'id3': \n",
        "    {'name': ['Sara'], \n",
        "    'class': ['V'], \n",
        "    'subject_integration': ['english, math, science']\n",
        "   },\n",
        " 'id4': \n",
        "   {'name': ['Surya'], \n",
        "    'class': ['V'], \n",
        "    'subject_integration': ['english, math, science']\n",
        "   },\n",
        "}\n",
        "\n",
        "result={}\n",
        "\n",
        "for key,value in student_data.items():\n",
        "  if value not in result.values():\n",
        "    result[key]=value\n",
        "print(result)    "
      ],
      "metadata": {
        "colab": {
          "base_uri": "https://localhost:8080/"
        },
        "id": "kmyVZxIEMTqo",
        "outputId": "d515b9c6-322e-42be-bf25-65e06bb90893"
      },
      "execution_count": null,
      "outputs": [
        {
          "output_type": "stream",
          "name": "stdout",
          "text": [
            "{'id1': {'name': ['Sara'], 'class': ['V'], 'subject_integration': ['english, math, science']}, 'id2': {'name': ['David'], 'class': ['V'], 'subject_integration': ['english, math, science']}, 'id4': {'name': ['Surya'], 'class': ['V'], 'subject_integration': ['english, math, science']}}\n"
          ]
        }
      ]
    },
    {
      "cell_type": "code",
      "source": [
        "dict={}\n",
        "if bool(dict)==False:\n",
        "  print(\"Dict is empty\")"
      ],
      "metadata": {
        "colab": {
          "base_uri": "https://localhost:8080/"
        },
        "id": "D-Ejq3gaMZdJ",
        "outputId": "e82c0f88-b20d-45b6-82ac-0fa4ee80bbdb"
      },
      "execution_count": null,
      "outputs": [
        {
          "output_type": "stream",
          "name": "stdout",
          "text": [
            "Dict is empty\n"
          ]
        }
      ]
    },
    {
      "cell_type": "code",
      "source": [
        "d1 = {'a': 100, 'b': 200, 'c':300}\n",
        "d2 = {'a': 300, 'b': 200, 'd':400}\n",
        "d3=d2\n",
        "for i,j in d1.items():\n",
        "  if i in d2:\n",
        "    d3[i]=j+d2[i]\n",
        "  else:\n",
        "    d3[i]=j\n",
        "\n",
        "\n",
        "\n",
        "\n",
        "d3"
      ],
      "metadata": {
        "colab": {
          "base_uri": "https://localhost:8080/"
        },
        "id": "PbpYOq8VRGEB",
        "outputId": "6339dc5d-4862-4683-af8d-62e4cd0a7bdf"
      },
      "execution_count": null,
      "outputs": [
        {
          "output_type": "execute_result",
          "data": {
            "text/plain": [
              "{'a': 400, 'b': 400, 'd': 400, 'c': 300}"
            ]
          },
          "metadata": {},
          "execution_count": 87
        }
      ]
    },
    {
      "cell_type": "code",
      "source": [
        "# Write a Python program to print all distinct values in a dictionary. Go to the editor\n",
        "\n",
        "d1=[{\"V\":\"S001\"}, {\"V\": \"S002\"}, {\"VI\": \"S001\"}, {\"VI\": \"S005\"}, {\"VII\":\"S005\"}, {\"V\":\"S009\"},{\"VIII\":\"S007\"}]\n",
        "\n",
        "unique=set()\n",
        "\n",
        "for dic in d1:\n",
        "  for val in dic.values():\n",
        "    unique.add(val)\n",
        "unique    "
      ],
      "metadata": {
        "colab": {
          "base_uri": "https://localhost:8080/"
        },
        "id": "gJetZvrKXZEK",
        "outputId": "fd7e2429-30f8-4bad-9a49-41743b02600e"
      },
      "execution_count": null,
      "outputs": [
        {
          "output_type": "execute_result",
          "data": {
            "text/plain": [
              "{'S001', 'S002', 'S005', 'S007', 'S009'}"
            ]
          },
          "metadata": {},
          "execution_count": 108
        }
      ]
    },
    {
      "cell_type": "code",
      "source": [
        "d1={'1':['a','b'], '2':['c','d']}\n",
        "import itertools\n",
        "k=[]\n",
        "for i in d1.values():\n",
        "  for j in i:\n",
        "    k.append(j)\n",
        "res=list(itertools.combinations(k,3))\n",
        "for i in res:\n",
        "  print(\"\".join(i))\n",
        "\n"
      ],
      "metadata": {
        "colab": {
          "base_uri": "https://localhost:8080/"
        },
        "id": "4qSSdTHoXozS",
        "outputId": "10bd4354-ab04-47b7-9940-fa0c2d55be64"
      },
      "execution_count": null,
      "outputs": [
        {
          "output_type": "stream",
          "name": "stdout",
          "text": [
            "abc\n",
            "abd\n",
            "acd\n",
            "bcd\n"
          ]
        }
      ]
    },
    {
      "cell_type": "code",
      "source": [
        "\n",
        "# Python program to demonstrate\n",
        "# finding 3 highest values in a Dictionary\n",
        " \n",
        "# Initial Dictionary\n",
        "my_dict = {'A': 67, 'B': 23, 'C': 45,\n",
        "        'D': 56, 'E': 12, 'F': 69}\n",
        " \n",
        "print(\"Initial Dictionary:\")\n",
        "print(my_dict, \"\\n\")\n",
        " \n",
        "print(\"Dictionary with 3 highest values:\")\n",
        "print(\"Keys: Values\")\n",
        " \n",
        "x=list(my_dict.values())\n",
        "d=dict()\n",
        "x.sort(reverse=True)\n",
        "x=x[:3]\n",
        "for i in x:\n",
        "    for j in my_dict.keys():\n",
        "        if(my_dict[j]==i):\n",
        "            print(str(j)+\" : \"+str(my_dict[j]))"
      ],
      "metadata": {
        "colab": {
          "base_uri": "https://localhost:8080/"
        },
        "id": "oYgrsnZ9jrMj",
        "outputId": "2eb8e3a5-1b93-4ca0-eb2e-99a49af98fab"
      },
      "execution_count": null,
      "outputs": [
        {
          "output_type": "stream",
          "name": "stdout",
          "text": [
            "Initial Dictionary:\n",
            "{'A': 67, 'B': 23, 'C': 45, 'D': 56, 'E': 12, 'F': 69} \n",
            "\n",
            "Dictionary with 3 highest values:\n",
            "Keys: Values\n",
            "F : 69\n",
            "A : 67\n",
            "D : 56\n"
          ]
        }
      ]
    },
    {
      "cell_type": "code",
      "source": [
        "my_dict = {'A': 67, 'B': 23, 'C': 45, 'D': 56, 'E': 12, 'F': 69}\n",
        "x=list(my_dict.values())\n",
        "x.sort(reverse=True)\n",
        "x=x[:3]\n",
        "x\n",
        "for i in x:\n",
        "  for j in my_dict:\n",
        "    if my_dict[j]==i:\n",
        "      print(str(j)+\": \"+str(my_dict[j]))"
      ],
      "metadata": {
        "colab": {
          "base_uri": "https://localhost:8080/"
        },
        "id": "T1_utr_Eks-j",
        "outputId": "797c351f-dd2b-4a2e-fb6d-081fbd412b7a"
      },
      "execution_count": null,
      "outputs": [
        {
          "output_type": "stream",
          "name": "stdout",
          "text": [
            "F: 69\n",
            "A: 67\n",
            "D: 56\n"
          ]
        }
      ]
    },
    {
      "cell_type": "code",
      "source": [
        "l1=[{'item': 'item1', 'amount': 400}, {'item': 'item2', 'amount': 300}, {'item': 'item1', 'amount': 750}]\n",
        "res={}\n",
        "for d in l1:\n",
        "  for j in d.values():\n",
        "    print(j)\n",
        "    res[j]=res.get(j,0)\n",
        "print(res)\n"
      ],
      "metadata": {
        "colab": {
          "base_uri": "https://localhost:8080/"
        },
        "id": "QNUZuKZak0li",
        "outputId": "3d680660-d940-4a90-9a91-aa2b98372814"
      },
      "execution_count": null,
      "outputs": [
        {
          "output_type": "stream",
          "name": "stdout",
          "text": [
            "item1\n",
            "400\n",
            "item2\n",
            "300\n",
            "item1\n",
            "750\n",
            "{'item1': 0, 400: 0, 'item2': 0, 300: 0, 750: 0}\n"
          ]
        }
      ]
    },
    {
      "cell_type": "code",
      "source": [
        "string= 'w3resource'\n",
        "d={}\n",
        "for i in string:\n",
        "  if i in d:\n",
        "    d[i]+=1\n",
        "  else:\n",
        "    d[i]=1\n",
        "for k in d:\n",
        "  print(k,':',d[k])\n",
        "print(d)"
      ],
      "metadata": {
        "colab": {
          "base_uri": "https://localhost:8080/"
        },
        "id": "4HP3hopys-kV",
        "outputId": "31bdf4d8-bcf6-48e9-c11e-11c4f09d4e76"
      },
      "execution_count": null,
      "outputs": [
        {
          "output_type": "stream",
          "name": "stdout",
          "text": [
            "w : 1\n",
            "3 : 1\n",
            "r : 2\n",
            "e : 2\n",
            "s : 1\n",
            "o : 1\n",
            "u : 1\n",
            "c : 1\n",
            "{'w': 1, '3': 1, 'r': 2, 'e': 2, 's': 1, 'o': 1, 'u': 1, 'c': 1}\n"
          ]
        }
      ]
    },
    {
      "cell_type": "code",
      "source": [
        "dict1 = {}\n",
        " \n",
        "# insert data into dictionary.\n",
        "dict1 = {'NAME': ['Samuel', 'Richie', 'Lauren'],\n",
        "         'AGE': [21, 20, 21],\n",
        "         'COURSE': ['Data Structures', 'Machine Learning', 'OOPS with Java']}\n",
        " \n",
        "# print the contents using zip format.\n",
        "for each_row in zip(*([i] + (j)\n",
        "                      for i, j in dict1.items())):\n",
        " \n",
        "      print(*each_row, \" \")"
      ],
      "metadata": {
        "id": "GgWCTO7Fl1WJ"
      },
      "execution_count": null,
      "outputs": []
    },
    {
      "cell_type": "code",
      "source": [
        "dict1 = {'NAME': ['Samuel', 'Richie', 'Lauren'],\n",
        "         'AGE': [21, 20, 21],\n",
        "         'COURSE': ['Data Structures', 'Machine Learning', 'OOPS with Java']}\n",
        "for i,j in dict1.items():\n",
        "  for row in (zip([i]+j)):\n",
        "    print(row)"
      ],
      "metadata": {
        "colab": {
          "base_uri": "https://localhost:8080/"
        },
        "id": "c_PoNYgBvzmf",
        "outputId": "1e1cb9fa-8b2d-482e-e279-543b6fcb408a"
      },
      "execution_count": null,
      "outputs": [
        {
          "output_type": "stream",
          "name": "stdout",
          "text": [
            "('NAME',)\n",
            "('Samuel',)\n",
            "('Richie',)\n",
            "('Lauren',)\n",
            "('AGE',)\n",
            "(21,)\n",
            "(20,)\n",
            "(21,)\n",
            "('COURSE',)\n",
            "('Data Structures',)\n",
            "('Machine Learning',)\n",
            "('OOPS with Java',)\n"
          ]
        }
      ]
    },
    {
      "cell_type": "code",
      "source": [
        "\n",
        "num = {'n1': [2, 3, 1], 'n2': [5, 1, 2], 'n3': [3, 2, 4]}\n",
        "k={}\n",
        "for i,j in num.items():\n",
        "  k[i]=j\n",
        "print(k)"
      ],
      "metadata": {
        "colab": {
          "base_uri": "https://localhost:8080/"
        },
        "id": "xxoLTgqAv1X9",
        "outputId": "cbb18df7-3b2d-4766-beba-20dc28af5837"
      },
      "execution_count": null,
      "outputs": [
        {
          "output_type": "stream",
          "name": "stdout",
          "text": [
            "{'n1': [2, 3, 1], 'n2': [5, 1, 2], 'n3': [3, 2, 4]}\n"
          ]
        }
      ]
    },
    {
      "cell_type": "code",
      "source": [
        "shop =  {'item1': 45.50, 'item2':35, 'item3': 41.30, 'item4':55, 'item5': 24}\n",
        "j=[]\n",
        "j=sorted(list(shop.values()),reverse=True)\n",
        "\n",
        "for i in j:\n",
        "  for k in shop:\n",
        "    if shop[k]==i:\n",
        "      print(k,':',shop[k])\n",
        "\n"
      ],
      "metadata": {
        "colab": {
          "base_uri": "https://localhost:8080/"
        },
        "id": "SIDpaqKvyFyJ",
        "outputId": "c5be4b8d-cc81-4f5c-fe55-d34b5029e3bc"
      },
      "execution_count": null,
      "outputs": [
        {
          "output_type": "stream",
          "name": "stdout",
          "text": [
            "item4 : 55\n",
            "item1 : 45.5\n",
            "item3 : 41.3\n",
            "item2 : 35\n",
            "item5 : 24\n"
          ]
        }
      ]
    },
    {
      "cell_type": "code",
      "source": [
        "num = {1: 10, 2: 20, 3: 30, 4: 40, 5: 50, 6: 60}\n",
        "for count,(i,j) in enumerate(num.items()):\n",
        "  print(count,' ',i,' ',j)\n"
      ],
      "metadata": {
        "colab": {
          "base_uri": "https://localhost:8080/"
        },
        "id": "JhuTl17_1Acq",
        "outputId": "318bd816-ab9c-4bb1-e844-107027566e0a"
      },
      "execution_count": null,
      "outputs": [
        {
          "output_type": "stream",
          "name": "stdout",
          "text": [
            "0   1   10\n",
            "1   2   20\n",
            "2   3   30\n",
            "3   4   40\n",
            "4   5   50\n",
            "5   6   60\n"
          ]
        }
      ]
    },
    {
      "cell_type": "code",
      "source": [
        "l1=['Class-V', 'Class-VI', 'Class-VII', 'Class-VIII']\n",
        "l2= [1, 2, 2, 3]\n",
        "a={}\n",
        "for i in range(len(l1)):\n",
        "\n",
        "  a[l1[i]]=l2[i]\n",
        "a"
      ],
      "metadata": {
        "colab": {
          "base_uri": "https://localhost:8080/"
        },
        "id": "BV_Tgk-g6_nP",
        "outputId": "1ead758a-c7c5-4a64-ed21-35596da79b20"
      },
      "execution_count": null,
      "outputs": [
        {
          "output_type": "execute_result",
          "data": {
            "text/plain": [
              "{'Class-V': 1, 'Class-VI': 2, 'Class-VII': 2, 'Class-VIII': 3}"
            ]
          },
          "metadata": {},
          "execution_count": 210
        }
      ]
    },
    {
      "cell_type": "code",
      "source": [
        "l1=['S001', 'S002', 'S003', 'S004']\n",
        "l2=['Adina Park', 'Leyton Marsh', 'Duncan Boyle', 'Saim Richards']\n",
        "l3=[85, 98, 89, 92]\n",
        "zip(l1,l2,l3)\n",
        "result=[{x:{y:z}} for (x,y,z) in zip(l1,l2,l3)]\n",
        "print(result)\n",
        "\n",
        "\n",
        "\n",
        "\n"
      ],
      "metadata": {
        "colab": {
          "base_uri": "https://localhost:8080/"
        },
        "id": "FXkvTn-z8eEZ",
        "outputId": "f2129b98-853e-4d6b-e19a-28e114f57639"
      },
      "execution_count": null,
      "outputs": [
        {
          "output_type": "stream",
          "name": "stdout",
          "text": [
            "[{'S001': {'Adina Park': 85}}, {'S002': {'Leyton Marsh': 98}}, {'S003': {'Duncan Boyle': 89}}, {'S004': {'Saim Richards': 92}}]\n"
          ]
        }
      ]
    },
    {
      "cell_type": "code",
      "source": [
        "stud={'Cierra Vega': (6.2, 70), 'Alden Cantrell': (5.9, 65), 'Kierra Gentry': (6.0, 68), 'Pierre Cox': (5.8, 66)}\n",
        "stud2={}\n",
        "for k,s in stud.items():\n",
        "  if s[0]>=6 and s[1]>=70:\n",
        "    stud2[k]=s\n",
        "stud2"
      ],
      "metadata": {
        "colab": {
          "base_uri": "https://localhost:8080/"
        },
        "id": "ZBUGafg1C3pC",
        "outputId": "cf443dc2-edaa-4ea4-b64a-0922652a296c"
      },
      "execution_count": null,
      "outputs": [
        {
          "output_type": "execute_result",
          "data": {
            "text/plain": [
              "{'Cierra Vega': (6.2, 70)}"
            ]
          },
          "metadata": {},
          "execution_count": 232
        }
      ]
    },
    {
      "cell_type": "code",
      "source": [
        "d={'Science': [88, 89, 62, 95], 'Language': [77, 78, 84, 80]}\n",
        "b=[{key:value[i] for key,value in d.items()} for i in range (4)]\n",
        "b"
      ],
      "metadata": {
        "colab": {
          "base_uri": "https://localhost:8080/"
        },
        "id": "0yw-48S3FIYn",
        "outputId": "e80a9215-4a2d-400f-c336-6612044f67ee"
      },
      "execution_count": null,
      "outputs": [
        {
          "output_type": "execute_result",
          "data": {
            "text/plain": [
              "[{'Science': 88, 'Language': 77},\n",
              " {'Science': 89, 'Language': 78},\n",
              " {'Science': 62, 'Language': 84},\n",
              " {'Science': 95, 'Language': 80}]"
            ]
          },
          "metadata": {},
          "execution_count": 244
        }
      ]
    },
    {
      "cell_type": "code",
      "source": [
        "d=[{'id': '#FF0000', 'color': 'Red'}, {'id': '#800000', 'color': 'Maroon'}, {'id': '#FFFF00', 'color': 'Yellow'}, {'id': '#808000', 'color': 'Olive'}]\n",
        "\n",
        "for i in d:\n",
        "\n",
        "  if i['id']=='#FF0000':\n",
        "    d.remove(i)\n",
        "    \n",
        "d\n",
        "\n"
      ],
      "metadata": {
        "colab": {
          "base_uri": "https://localhost:8080/"
        },
        "id": "856KoIUwIc8a",
        "outputId": "a9d1dfb5-5af4-483f-d228-12b2832c2687"
      },
      "execution_count": null,
      "outputs": [
        {
          "output_type": "execute_result",
          "data": {
            "text/plain": [
              "[{'id': '#800000', 'color': 'Maroon'},\n",
              " {'id': '#FFFF00', 'color': 'Yellow'},\n",
              " {'id': '#808000', 'color': 'Olive'}]"
            ]
          },
          "metadata": {},
          "execution_count": 252
        }
      ]
    },
    {
      "cell_type": "code",
      "source": [
        "d={'C1': [10, 20, 30], 'C2': [20, 30, 40], 'C3': [12, 34]}\n",
        "for i,j in d.items():\n",
        "  j.clear()\n",
        "d\n"
      ],
      "metadata": {
        "colab": {
          "base_uri": "https://localhost:8080/"
        },
        "id": "mSPa4y68g85L",
        "outputId": "a4c44c23-8fd3-4ad1-9320-ac81d6daab91"
      },
      "execution_count": null,
      "outputs": [
        {
          "output_type": "execute_result",
          "data": {
            "text/plain": [
              "{'C1': [], 'C2': [], 'C3': []}"
            ]
          },
          "metadata": {},
          "execution_count": 265
        }
      ]
    },
    {
      "cell_type": "code",
      "source": [
        "d={'Math': [88, 89, 90], 'Physics': [92, 94, 89], 'Chemistry': [90, 87, 93]}\n",
        "d['Math']=[x+1 for x in d['Math']]\n",
        "d['Physics']=[x-2 for x in d['Physics']]\n",
        "d"
      ],
      "metadata": {
        "colab": {
          "base_uri": "https://localhost:8080/"
        },
        "id": "WC7CJyxniLZ2",
        "outputId": "7d799c24-fe64-4989-bd03-61b0f8963e97"
      },
      "execution_count": null,
      "outputs": [
        {
          "output_type": "execute_result",
          "data": {
            "text/plain": [
              "{'Math': [89, 90, 91], 'Physics': [90, 92, 87], 'Chemistry': [90, 87, 93]}"
            ]
          },
          "metadata": {},
          "execution_count": 277
        }
      ]
    },
    {
      "cell_type": "code",
      "source": [
        "d=[{'Math': 90, 'Science': 92}, {'Math': 89, 'Science': 94}, {'Math': 92, 'Science': 88}]\n",
        "l=[]\n",
        "for i in d:\n",
        "  \n",
        "  l.append(i['Science'])\n",
        "l"
      ],
      "metadata": {
        "colab": {
          "base_uri": "https://localhost:8080/"
        },
        "id": "BXenNwuRlBXj",
        "outputId": "e6580817-b35a-440a-e22d-62a3831913ab"
      },
      "execution_count": null,
      "outputs": [
        {
          "output_type": "execute_result",
          "data": {
            "text/plain": [
              "[92, 94, 88]"
            ]
          },
          "metadata": {},
          "execution_count": 282
        }
      ]
    },
    {
      "cell_type": "code",
      "source": [
        "l={1: 'red', 2: 'green', 3: 'black', 4: 'white', 5: 'black'}\n",
        "d={}\n",
        "for i,j in l.items():\n",
        "  d[j]=len(j)\n",
        "\n",
        "d"
      ],
      "metadata": {
        "colab": {
          "base_uri": "https://localhost:8080/"
        },
        "id": "tbLVHg-Eq-cQ",
        "outputId": "3f932055-a7cc-4234-fc78-85e9f20eaad1"
      },
      "execution_count": null,
      "outputs": [
        {
          "output_type": "execute_result",
          "data": {
            "text/plain": [
              "{'red': 3, 'green': 5, 'black': 5, 'white': 5}"
            ]
          },
          "metadata": {},
          "execution_count": 284
        }
      ]
    },
    {
      "cell_type": "code",
      "source": [
        "myDict = {'ravi': 10, 'rajnish': 9,'sanjeev': 15, 'yash': 2, 'suraj': 32}\n",
        "mykeys=list(myDict.keys())\n",
        "mykeys.sort()\n",
        "sorted_dict={i:myDict[i] for i in mykeys}\n",
        "sorted_dict"
      ],
      "metadata": {
        "colab": {
          "base_uri": "https://localhost:8080/"
        },
        "id": "-XMllduDubCG",
        "outputId": "675b851f-6f10-4700-b263-323ca824439d"
      },
      "execution_count": null,
      "outputs": [
        {
          "output_type": "execute_result",
          "data": {
            "text/plain": [
              "{'rajnish': 9, 'ravi': 10, 'sanjeev': 15, 'suraj': 32, 'yash': 2}"
            ]
          },
          "metadata": {},
          "execution_count": 287
        }
      ]
    },
    {
      "cell_type": "code",
      "source": [
        "def returnSum(myDict):\n",
        " \n",
        "    list = []\n",
        "    for i in myDict:\n",
        "        list.append(myDict[i])\n",
        "    final = sum(list)\n",
        " \n",
        "    return final\n",
        " \n",
        " \n",
        "# Driver Function\n",
        "dict = {'a': 100, 'b': 200, 'c': 300}\n",
        "print(\"Sum :\", returnSum(dict))"
      ],
      "metadata": {
        "colab": {
          "base_uri": "https://localhost:8080/"
        },
        "id": "f_C9QNRDyS_i",
        "outputId": "38f435ab-1ba4-40e5-9415-9831e0e43ed0"
      },
      "execution_count": null,
      "outputs": [
        {
          "output_type": "stream",
          "name": "stdout",
          "text": [
            "Sum : 600\n"
          ]
        }
      ]
    },
    {
      "cell_type": "code",
      "source": [
        "list = [{\"name\": \"Nandini\", \"age\": 20},\n",
        "       {\"name\": \"Manjeet\", \"age\": 20},\n",
        "       {\"name\": \"Nikhil\", \"age\": 19}]\n",
        " \n",
        " # Sorted By Age\n",
        "print(sorted(list, key=lambda i:(i['age'],i['name'])))"
      ],
      "metadata": {
        "colab": {
          "base_uri": "https://localhost:8080/"
        },
        "id": "SL1xq2Po0cZ1",
        "outputId": "924e41b8-7bac-4b2a-a755-4944c8d14dd0"
      },
      "execution_count": null,
      "outputs": [
        {
          "output_type": "stream",
          "name": "stdout",
          "text": [
            "[{'name': 'Nikhil', 'age': 19}, {'name': 'Manjeet', 'age': 20}, {'name': 'Nandini', 'age': 20}]\n"
          ]
        }
      ]
    },
    {
      "cell_type": "code",
      "source": [
        "def addition(num):\n",
        "    if num:\n",
        "        # call same function by reducing number by 1\n",
        "        return num + addition(num - 1)\n",
        "    else:\n",
        "        return 0\n",
        "\n",
        "res = addition(10)\n",
        "print(res)"
      ],
      "metadata": {
        "colab": {
          "base_uri": "https://localhost:8080/"
        },
        "id": "sNCEOXi93Drr",
        "outputId": "3a0acc95-8805-4dd6-eb4d-b34c0a5a4bcd"
      },
      "execution_count": null,
      "outputs": [
        {
          "output_type": "stream",
          "name": "stdout",
          "text": [
            "55\n"
          ]
        }
      ]
    },
    {
      "cell_type": "code",
      "source": [
        "sc\n",
        "str=str1[0]+str1[int(len(str1)//2)]+str1[-1]\n",
        "str"
      ],
      "metadata": {
        "colab": {
          "base_uri": "https://localhost:8080/",
          "height": 36
        },
        "id": "Dcjhw29y7cd1",
        "outputId": "c0110481-d77a-4f4a-847b-629698208641"
      },
      "execution_count": null,
      "outputs": [
        {
          "output_type": "execute_result",
          "data": {
            "text/plain": [
              "'Jia'"
            ],
            "application/vnd.google.colaboratory.intrinsic+json": {
              "type": "string"
            }
          },
          "metadata": {},
          "execution_count": 9
        }
      ]
    },
    {
      "cell_type": "code",
      "source": [
        "str1 = \"James\"\n",
        "str1[int(len(str1)//2)]"
      ],
      "metadata": {
        "colab": {
          "base_uri": "https://localhost:8080/",
          "height": 36
        },
        "id": "xbg11lvc9lmy",
        "outputId": "6de57ec3-7abb-4b8f-8c81-4fbbff30ad95"
      },
      "execution_count": null,
      "outputs": [
        {
          "output_type": "execute_result",
          "data": {
            "text/plain": [
              "'m'"
            ],
            "application/vnd.google.colaboratory.intrinsic+json": {
              "type": "string"
            }
          },
          "metadata": {},
          "execution_count": 7
        }
      ]
    },
    {
      "cell_type": "code",
      "source": [
        "str1=\"JaSonAy\"\n",
        "middle=str1[int(len(str1)//2)]\n",
        "middle_1=str1[int(len(str1)//2)+1]\n",
        "middle_2=str1[int(len(str1)//2)-1]\n",
        "\n",
        "\n",
        "str=middle_2+middle+middle_1\n",
        "str"
      ],
      "metadata": {
        "colab": {
          "base_uri": "https://localhost:8080/",
          "height": 36
        },
        "id": "cD9NBmrx9s6i",
        "outputId": "6ed34468-7a55-4e27-b1c7-ed80e5b77cf1"
      },
      "execution_count": null,
      "outputs": [
        {
          "output_type": "execute_result",
          "data": {
            "text/plain": [
              "'Son'"
            ],
            "application/vnd.google.colaboratory.intrinsic+json": {
              "type": "string"
            }
          },
          "metadata": {},
          "execution_count": 14
        }
      ]
    },
    {
      "cell_type": "code",
      "source": [
        "a=(1,2,3)\n",
        "a=a+(9,)\n",
        "a"
      ],
      "metadata": {
        "colab": {
          "base_uri": "https://localhost:8080/"
        },
        "id": "ejqca_pe-5uX",
        "outputId": "815d737e-df1c-4e6a-95aa-61a1e740dbc5"
      },
      "execution_count": null,
      "outputs": [
        {
          "output_type": "execute_result",
          "data": {
            "text/plain": [
              "(1, 2, 3, 9)"
            ]
          },
          "metadata": {},
          "execution_count": 5
        }
      ]
    },
    {
      "cell_type": "code",
      "source": [
        "# Create a new set\n",
        "x=set()\n",
        "print(x)\n",
        "print(type(x))\n",
        "print(\"Create Non empty dictionory\")\n",
        "n=set([1,2,3,4,5,6])\n",
        "print(n)\n",
        "print(type(n))"
      ],
      "metadata": {
        "colab": {
          "base_uri": "https://localhost:8080/"
        },
        "id": "9SXFy094x4dh",
        "outputId": "d53ae093-21b2-455f-e093-ea33452ed488"
      },
      "execution_count": null,
      "outputs": [
        {
          "output_type": "stream",
          "name": "stdout",
          "text": [
            "set()\n",
            "<class 'set'>\n",
            "Create Non empty dictionory\n",
            "{1, 2, 3, 4, 5, 6}\n",
            "<class 'set'>\n"
          ]
        }
      ]
    },
    {
      "cell_type": "code",
      "source": [
        "num=set([1,2,3,4,5,6,6,7,8])\n",
        "for n in num:\n",
        "  print(n, end=' ')\n",
        "\n",
        "colors=set()\n",
        "colors.update(['Red','yellow'])\n",
        "colors.add('Pink')\n",
        "print(colors)\n",
        "\n",
        "colors.pop()\n",
        "print(colors)\n",
        "\n",
        "num.discard(5)\n",
        "print(num)"
      ],
      "metadata": {
        "colab": {
          "base_uri": "https://localhost:8080/"
        },
        "id": "Dgh42ROagUqh",
        "outputId": "cc5a3400-21f9-4b47-94bf-d5374269f5b6"
      },
      "execution_count": null,
      "outputs": [
        {
          "output_type": "stream",
          "name": "stdout",
          "text": [
            "1 2 3 4 5 6 7 8 {'Red', 'yellow', 'Pink'}\n",
            "{'yellow', 'Pink'}\n",
            "{1, 2, 3, 4, 6, 7, 8}\n"
          ]
        }
      ]
    },
    {
      "cell_type": "code",
      "source": [
        "set1=set(['Red','blue','Violet'])\n",
        "set2=set(['Green','Violet','blue'])\n",
        "\n",
        "set3=set1 & set2\n",
        "set3"
      ],
      "metadata": {
        "colab": {
          "base_uri": "https://localhost:8080/"
        },
        "id": "bvm4TYn7idS1",
        "outputId": "67eb2673-6189-4fda-df28-64afe3b0bdba"
      },
      "execution_count": null,
      "outputs": [
        {
          "output_type": "execute_result",
          "data": {
            "text/plain": [
              "{'Violet', 'blue'}"
            ]
          },
          "metadata": {},
          "execution_count": 18
        }
      ]
    },
    {
      "cell_type": "code",
      "source": [
        "setc1 = set([\"green\", \"blue\"])\n",
        "setc2 = set([\"blue\", \"yellow\"])\n",
        "\n",
        "setc3=setc1.union(setc2)\n",
        "print(setc3)"
      ],
      "metadata": {
        "colab": {
          "base_uri": "https://localhost:8080/"
        },
        "id": "bg5ngAuLppvl",
        "outputId": "7c382719-c538-4c6a-c655-dfc36a0c575b"
      },
      "execution_count": null,
      "outputs": [
        {
          "output_type": "stream",
          "name": "stdout",
          "text": [
            "{'blue', 'yellow', 'green'}\n"
          ]
        }
      ]
    },
    {
      "cell_type": "code",
      "source": [
        "setc1 = set([\"green\", \"blue\"])\n",
        "setc2 = set([\"blue\", \"yellow\"])\n",
        "r1=setc1.difference(setc2)\n",
        "r1"
      ],
      "metadata": {
        "colab": {
          "base_uri": "https://localhost:8080/"
        },
        "id": "Te8aLNQfqFWq",
        "outputId": "2dd033fa-309d-4c06-e2d1-e27a56442787"
      },
      "execution_count": null,
      "outputs": [
        {
          "output_type": "execute_result",
          "data": {
            "text/plain": [
              "{'green'}"
            ]
          },
          "metadata": {},
          "execution_count": 21
        }
      ]
    },
    {
      "cell_type": "code",
      "source": [
        "setn1 = set([1, 1, 2, 3, 4, 5])\n",
        "setn2 = set([1, 5, 6, 7, 8, 9])\n",
        "r2=setn1.symmetric_difference(setn2)\n",
        "print(r2)"
      ],
      "metadata": {
        "colab": {
          "base_uri": "https://localhost:8080/"
        },
        "id": "bN4o8D08rCL5",
        "outputId": "dc157205-d7b3-432c-9c6e-0f0fb1554156"
      },
      "execution_count": null,
      "outputs": [
        {
          "output_type": "stream",
          "name": "stdout",
          "text": [
            "{2, 3, 4, 6, 7, 8, 9}\n"
          ]
        }
      ]
    },
    {
      "cell_type": "code",
      "source": [
        "setx = set([\"apple\", \"mango\"])\n",
        "sety = set([\"mango\", \"orange\"])\n",
        "setz = set([\"mango\"])\n",
        "\n",
        "setz.issubset(sety)"
      ],
      "metadata": {
        "colab": {
          "base_uri": "https://localhost:8080/"
        },
        "id": "U1SJxP9eroQG",
        "outputId": "a29a8b80-0794-4404-9a9b-a7ac0fd0fc6d"
      },
      "execution_count": null,
      "outputs": [
        {
          "output_type": "execute_result",
          "data": {
            "text/plain": [
              "True"
            ]
          },
          "metadata": {},
          "execution_count": 24
        }
      ]
    },
    {
      "cell_type": "code",
      "source": [
        "setp = set([\"Red\", \"Green\"])\n",
        "setq = set([\"Green\", \"Red\"])\n",
        "#A shallow copy\n",
        "setr = setp.copy()\n",
        "print(setr)\n",
        "setr.add('yellow')\n",
        "print(setr)\n",
        "print(setp)\n",
        "setq.clear()\n",
        "print(setq)"
      ],
      "metadata": {
        "colab": {
          "base_uri": "https://localhost:8080/"
        },
        "id": "zlvGir9QsHnV",
        "outputId": "86abce73-9532-43ee-ef78-f753522c657b"
      },
      "execution_count": null,
      "outputs": [
        {
          "output_type": "stream",
          "name": "stdout",
          "text": [
            "{'Red', 'Green'}\n",
            "{'Red', 'yellow', 'Green'}\n",
            "{'Red', 'Green'}\n",
            "set()\n"
          ]
        }
      ]
    },
    {
      "cell_type": "code",
      "source": [
        "set1 = {10, 20, 30, 40, 50}\n",
        "set2 = {30, 40, 50, 60, 70}\n",
        "set3=set()\n",
        "set3.update(set1)\n",
        "set3.update(set2)\n",
        "print(set3)"
      ],
      "metadata": {
        "colab": {
          "base_uri": "https://localhost:8080/"
        },
        "id": "d6khL67bsYRF",
        "outputId": "03fa80ab-df07-4879-d954-383623269634"
      },
      "execution_count": null,
      "outputs": [
        {
          "output_type": "stream",
          "name": "stdout",
          "text": [
            "{70, 40, 10, 50, 20, 60, 30}\n"
          ]
        }
      ]
    },
    {
      "cell_type": "code",
      "source": [
        "set1 = {10, 20, 30}\n",
        "set2 = {20, 40, 50}\n",
        "set3=set()\n",
        "set3=set1-set2\n",
        "set3"
      ],
      "metadata": {
        "colab": {
          "base_uri": "https://localhost:8080/"
        },
        "id": "Y25fdB09HXN_",
        "outputId": "945d0ab6-114a-4d19-81a7-df27cadd29f6"
      },
      "execution_count": null,
      "outputs": [
        {
          "output_type": "execute_result",
          "data": {
            "text/plain": [
              "{10, 30}"
            ]
          },
          "metadata": {},
          "execution_count": 35
        }
      ]
    },
    {
      "cell_type": "code",
      "source": [
        "tuple1 = (('a', 23),('b', 37),('c', 11), ('d',29))\n",
        "\n",
        "tuple2=tuple(sorted(list(tuple1),key=lambda x:x[1]))\n",
        "tuple2\n"
      ],
      "metadata": {
        "colab": {
          "base_uri": "https://localhost:8080/"
        },
        "id": "8yX019PRIU_S",
        "outputId": "8ec5cbe6-13a2-46b2-8e32-dcd5a2c7e181"
      },
      "execution_count": null,
      "outputs": [
        {
          "output_type": "execute_result",
          "data": {
            "text/plain": [
              "(('c', 11), ('a', 23), ('d', 29), ('b', 37))"
            ]
          },
          "metadata": {},
          "execution_count": 36
        }
      ]
    },
    {
      "cell_type": "code",
      "source": [],
      "metadata": {
        "id": "GAJ7C1E0RKlT"
      },
      "execution_count": null,
      "outputs": []
    }
  ]
}