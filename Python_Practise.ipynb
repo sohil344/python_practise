{
  "nbformat": 4,
  "nbformat_minor": 0,
  "metadata": {
    "colab": {
      "provenance": [],
      "toc_visible": true,
      "authorship_tag": "ABX9TyPEEI2O9pFkB4d+QPVKIWSA",
      "include_colab_link": true
    },
    "kernelspec": {
      "name": "python3",
      "display_name": "Python 3"
    },
    "language_info": {
      "name": "python"
    }
  },
  "cells": [
    {
      "cell_type": "markdown",
      "metadata": {
        "id": "view-in-github",
        "colab_type": "text"
      },
      "source": [
        "<a href=\"https://colab.research.google.com/github/sohil344/python_practise/blob/main/Python_Practise.ipynb\" target=\"_parent\"><img src=\"https://colab.research.google.com/assets/colab-badge.svg\" alt=\"Open In Colab\"/></a>"
      ]
    },
    {
      "cell_type": "markdown",
      "source": [
        "**Given a list, write a Python program to swap first and last element of the list.**\n",
        "Input : [12, 35, 9, 56, 24]\n",
        "Output : [24, 35, 9, 56, 12]\n",
        "\n",
        "Input : [1, 2, 3]\n",
        "Output : [3, 2, 1]"
      ],
      "metadata": {
        "id": "gv9_tFk-ySpY"
      }
    },
    {
      "cell_type": "code",
      "source": [
        "input= [2, 35, 9, 56, 24]\n",
        "def swapping(list):\n",
        "  list[0],list[-1]=list[-1],list[0]\n",
        "  return input\n",
        "  \n",
        "swapping(input)\n"
      ],
      "metadata": {
        "colab": {
          "base_uri": "https://localhost:8080/"
        },
        "id": "cQ4qKdsRybyu",
        "outputId": "ed2d17e9-4724-41f1-ce9a-8659220260fe"
      },
      "execution_count": 10,
      "outputs": [
        {
          "output_type": "execute_result",
          "data": {
            "text/plain": [
              "[24, 35, 9, 56, 2]"
            ]
          },
          "metadata": {},
          "execution_count": 10
        }
      ]
    },
    {
      "cell_type": "markdown",
      "source": [
        "**Given a list of words in Python, the task is to remove the Nth occurrence of the given word in that list.**\n",
        "\n",
        "Input: list - [\"geeks\", \"for\", \"geeks\"]\n",
        "       word = geeks, N = 2\n",
        "Output: list - [\"geeks\", \"for\"]\n",
        "\n",
        "Input: list - [\"can\", \"you\",  \"can\", \"a\", \"can\" \"?\"]\n",
        "       word = can, N = 1\n",
        "Output: list - [\"you\",  \"can\", \"a\", \"can\" \"?\"]\n"
      ],
      "metadata": {
        "id": "cVPsHwYy3Uxr"
      }
    },
    {
      "cell_type": "code",
      "source": [
        "\n",
        "def func(list,word,n):\n",
        "  a=0\n",
        "  b=[]\n",
        "\n",
        "  \n",
        "  for i in list:\n",
        "    print(i)\n",
        "    if i !=word:\n",
        "      b.append(i)\n",
        "    elif i==word:\n",
        "      a+=1\n",
        "      if a!=n:\n",
        "        b.append(i)\n",
        "    \n",
        "        \n",
        "  return b\n",
        "func([\"geeks\", \"for\", \"geeks\"],'geeks',1)"
      ],
      "metadata": {
        "colab": {
          "base_uri": "https://localhost:8080/"
        },
        "id": "mYvfvUgZ4Vxp",
        "outputId": "634fec2e-8fbf-4672-f47e-f6e37048366f"
      },
      "execution_count": 38,
      "outputs": [
        {
          "output_type": "stream",
          "name": "stdout",
          "text": [
            "geeks\n",
            "for\n",
            "geeks\n"
          ]
        },
        {
          "output_type": "execute_result",
          "data": {
            "text/plain": [
              "['for', 'geeks']"
            ]
          },
          "metadata": {},
          "execution_count": 38
        }
      ]
    },
    {
      "cell_type": "markdown",
      "source": [
        "**Remove empty List from List**\n",
        "\n"
      ],
      "metadata": {
        "id": "NT7S-YPbGmN_"
      }
    },
    {
      "cell_type": "code",
      "source": [
        "test= [5, 6, [], 3, [], [], 9]\n",
        "test_1=[i for i in test if i!=[]]\n",
        "print(test_1)\n",
        "    "
      ],
      "metadata": {
        "colab": {
          "base_uri": "https://localhost:8080/"
        },
        "id": "EgqAIuZq5eRM",
        "outputId": "cb2494b4-7014-4ade-ff5b-2d37ce741fc6"
      },
      "execution_count": 43,
      "outputs": [
        {
          "output_type": "stream",
          "name": "stdout",
          "text": [
            "[5, 6, 3, 9]\n"
          ]
        }
      ]
    },
    {
      "cell_type": "markdown",
      "source": [
        "**Convert List to List of dictionaries**\n",
        "\n",
        "Input : test_list = [“Gfg”, 3, “is”, 8], key_list = [“name”, “id”]\n",
        "\n",
        "Output : [{‘name’: ‘Gfg’, ‘id’: 3}, {‘name’: ‘is’, ‘id’: 8}]\n",
        "\n",
        "Explanation : Values mapped by custom key, “name” -> “Gfg”, “id” -> 3.\n",
        "\n",
        "Input : test_list = [“Gfg”, 10], key_list = [“name”, “id”]\n",
        "\n",
        "Output : [{‘name’: ‘Gfg’, ‘id’: 10}]\n",
        "\n",
        "Explanation : Conversion of lists to list of records by keys mapping."
      ],
      "metadata": {
        "id": "OaTzleTYLfVk"
      }
    },
    {
      "cell_type": "code",
      "source": [
        "test_list = ['Gfg', 3, 'is', 8]\n",
        "key_list = ['name', 'id']\n",
        "\n",
        "n=len(test_list)\n",
        "res=[]\n",
        "for i in range(0,n,2):\n",
        "  res.append({key_list[0]:test_list[i],key_list[1]:test_list[i+1]})\n",
        "  \n",
        "print(str(res))"
      ],
      "metadata": {
        "colab": {
          "base_uri": "https://localhost:8080/"
        },
        "id": "LAe1egSsLkqG",
        "outputId": "e8c271d0-3006-42ba-d1d7-9d539e8aa720"
      },
      "execution_count": 49,
      "outputs": [
        {
          "output_type": "stream",
          "name": "stdout",
          "text": [
            "[{'name': 'Gfg', 'id': 3}, {'name': 'is', 'id': 8}]\n"
          ]
        }
      ]
    },
    {
      "cell_type": "markdown",
      "source": [
        "**How to count unique values inside a list**\n"
      ],
      "metadata": {
        "id": "zdCNpSX9P6o3"
      }
    },
    {
      "cell_type": "code",
      "source": [
        "i_p = [1, 2, 2, 5, 8, 4, 4, 8]\n",
        "o_p=[]\n",
        "for i in i_p:\n",
        "  if i not in o_p:\n",
        "    o_p.append(i)\n",
        "\n",
        "print(len(o_p))\n"
      ],
      "metadata": {
        "colab": {
          "base_uri": "https://localhost:8080/"
        },
        "id": "V1Jfw80WQNw9",
        "outputId": "f590908e-4df0-40bd-d332-2d677a7c38b0"
      },
      "execution_count": 52,
      "outputs": [
        {
          "output_type": "stream",
          "name": "stdout",
          "text": [
            "5\n"
          ]
        }
      ]
    },
    {
      "cell_type": "markdown",
      "source": [
        "**Extract elements with Frequency greater than K**\n",
        "\n",
        "Input : test_list = [4, 6, 4, 3, 3, 4, 3, 4, 3, 8], K = 3 \n",
        "\n",
        "Output : [4, 3] \n",
        "\n",
        "Explanation : Both elements occur 4 times. \n",
        "\n",
        "Input : test_list = [4, 6, 4, 3, 3, 4, 3, 4, 6, 6], K = 2 \n",
        "\n",
        "Output : [4, 3, 6] \n",
        "\n",
        "Explanation : Occur 4, 3, and 3 times respectively."
      ],
      "metadata": {
        "id": "mOCZRM-7gk06"
      }
    },
    {
      "cell_type": "code",
      "source": [
        "def freq(list,k):\n",
        "  count=0\n",
        "  d=[]\n",
        "  for i in list:\n",
        "    freq=list.count(i)\n",
        "    if freq>k and i not in d:\n",
        "      d.append(i)\n",
        "  return d\n",
        "freq([4, 6, 4, 3, 3, 4, 3, 4, 3, 8],3)\n"
      ],
      "metadata": {
        "colab": {
          "base_uri": "https://localhost:8080/"
        },
        "id": "h8n73U4dgxKt",
        "outputId": "fa752bb0-2b56-413d-8736-4372f6e2a263"
      },
      "execution_count": 61,
      "outputs": [
        {
          "output_type": "execute_result",
          "data": {
            "text/plain": [
              "[4, 3]"
            ]
          },
          "metadata": {},
          "execution_count": 61
        }
      ]
    },
    {
      "cell_type": "markdown",
      "source": [
        "**check if the list contains three consecutive common numbers in Python**\n",
        "\n",
        "Input : [4, 5, 5, 5, 3, 8]\n",
        "\n",
        "Output : 5\n"
      ],
      "metadata": {
        "id": "fwusVu7MhO2_"
      }
    },
    {
      "cell_type": "code",
      "source": [
        "def func_2(list):\n",
        "  list_2=[]\n",
        "  for i in range(len(list)-2):\n",
        "    if list[i]==list[i+1] and list[i+1]==list[i+2]:\n",
        "      list_2.append(list[i])\n",
        "  return list_2\n",
        "func_2([4, 5, 5, 5, 6,6,6])\n",
        "      \n",
        "\n",
        "\n"
      ],
      "metadata": {
        "colab": {
          "base_uri": "https://localhost:8080/"
        },
        "id": "0IrN9m2-Ckor",
        "outputId": "1705bc27-fc46-4a30-bf91-7a1c3bd00411"
      },
      "execution_count": 74,
      "outputs": [
        {
          "output_type": "execute_result",
          "data": {
            "text/plain": [
              "[5, 6]"
            ]
          },
          "metadata": {},
          "execution_count": 74
        }
      ]
    },
    {
      "cell_type": "markdown",
      "source": [
        "**print all Possible Combinations from the three Digits**\n"
      ],
      "metadata": {
        "id": "YHBOAsOGHLE_"
      }
    },
    {
      "cell_type": "code",
      "source": [
        "def func(list):\n",
        "  for i in range(3):\n",
        "    for j in range(3):\n",
        "      for k in range(3):\n",
        "        if (i!=j and j!=k and i!=k):\n",
        "          print(list[i],list[j],list[k])\n",
        "func([1,2,3])\n"
      ],
      "metadata": {
        "colab": {
          "base_uri": "https://localhost:8080/"
        },
        "id": "ACktuwmMHPQI",
        "outputId": "3fbdf4f7-b9d8-4299-f3bf-d5b0310397fb"
      },
      "execution_count": 77,
      "outputs": [
        {
          "output_type": "stream",
          "name": "stdout",
          "text": [
            "1 2 3\n",
            "1 3 2\n",
            "2 1 3\n",
            "2 3 1\n",
            "3 1 2\n",
            "3 2 1\n"
          ]
        }
      ]
    },
    {
      "cell_type": "markdown",
      "source": [
        "**Reverse a Number**"
      ],
      "metadata": {
        "id": "TtFhbiX1MoG9"
      }
    },
    {
      "cell_type": "code",
      "source": [
        "num=1234\n",
        "rev_num=0\n",
        "digit=0\n",
        "\n",
        "while num!=0:\n",
        "  digit=num%10\n",
        "  rev_num=rev_num*10+digit\n",
        "  num=num//10\n",
        "print(rev_num)"
      ],
      "metadata": {
        "colab": {
          "base_uri": "https://localhost:8080/"
        },
        "id": "j0xY_jWwMrF_",
        "outputId": "b5a3b399-faf9-419b-d899-e3c06fd8c45b"
      },
      "execution_count": 78,
      "outputs": [
        {
          "output_type": "stream",
          "name": "stdout",
          "text": [
            "4321\n"
          ]
        }
      ]
    },
    {
      "cell_type": "code",
      "source": [
        "ints=153\n",
        "sum=0\n",
        "temp=ints\n",
        "while temp>0:\n",
        "  digit=temp%10\n",
        "  sum+=digit**3\n",
        "  temp//=10\n",
        "\n",
        "if ints==sum:\n",
        "  print(\"It is Armstrong number\")\n",
        "else:\n",
        "  print(\"It is not Armstrong number\")\n",
        "\n"
      ],
      "metadata": {
        "colab": {
          "base_uri": "https://localhost:8080/"
        },
        "id": "1MvxBcBaNOsQ",
        "outputId": "6306b8e5-2bb3-43f0-ee1d-3cf930351453"
      },
      "execution_count": 95,
      "outputs": [
        {
          "output_type": "stream",
          "name": "stdout",
          "text": [
            "It is Armstrong number\n"
          ]
        }
      ]
    },
    {
      "cell_type": "code",
      "source": [
        "#Program to Check Prime Number\n",
        "num=7\n",
        "flag=False\n",
        "for i in range(2,num):\n",
        "  if (num%i)==0:\n",
        "    flag=True\n",
        "    break\n",
        "if flag==True:\n",
        "  print(\"it is not Prime number\")\n",
        "else:\n",
        "  print(\"it is Prime number\")\n",
        "\n",
        "\n",
        "\n",
        "\n"
      ],
      "metadata": {
        "colab": {
          "base_uri": "https://localhost:8080/"
        },
        "id": "PaD2iFJldVgM",
        "outputId": "d4bdaa3f-a9e0-4f31-cabb-adc16a324896"
      },
      "execution_count": 100,
      "outputs": [
        {
          "output_type": "stream",
          "name": "stdout",
          "text": [
            "it is Prime number\n"
          ]
        }
      ]
    },
    {
      "cell_type": "code",
      "source": [
        "#Fibonacci series program in python using iterative method\n",
        "num=6\n",
        "a=0\n",
        "b=1\n",
        "for i in range(0,num):\n",
        "  if i<=1:\n",
        "    result=i\n",
        "\n",
        "  else:\n",
        "    result=a+b\n",
        "    a=b\n",
        "    b=result\n",
        "\n",
        "\n",
        "\n",
        "  print(result)\n",
        "\n"
      ],
      "metadata": {
        "colab": {
          "base_uri": "https://localhost:8080/"
        },
        "id": "B0xgSqmHdW-3",
        "outputId": "d30036cb-cd10-4914-de0e-e84f215c3766"
      },
      "execution_count": 104,
      "outputs": [
        {
          "output_type": "stream",
          "name": "stdout",
          "text": [
            "0\n",
            "1\n",
            "1\n",
            "2\n",
            "3\n",
            "5\n"
          ]
        }
      ]
    },
    {
      "cell_type": "code",
      "source": [
        "#To check Palindrome number\n",
        "num_1=122\n",
        "num=num_1\n",
        "rev_num=0\n",
        "digit=0\n",
        "while num!=0:\n",
        "  digit=num%10\n",
        "  rev_num=rev_num*10+digit\n",
        "  num=num//10\n",
        "\n",
        "if rev_num==num_1:\n",
        "  print(\"It is Palindorme numer\")\n",
        "else:\n",
        "  print(\"It is not Palindorme number\")\n"
      ],
      "metadata": {
        "colab": {
          "base_uri": "https://localhost:8080/"
        },
        "id": "kdiK4Plixrz-",
        "outputId": "be707b21-5175-4c54-96b2-17a1041efcf9"
      },
      "execution_count": 108,
      "outputs": [
        {
          "output_type": "stream",
          "name": "stdout",
          "text": [
            "It is not Palindorme number\n"
          ]
        }
      ]
    },
    {
      "cell_type": "code",
      "source": [
        "#Generate infinite Fibonaaci Series using generators\n",
        "def Fibonaaci():\n",
        "  a,b=0,1\n",
        "  while True:\n",
        "    yield a\n",
        "    a,b=b,a+b\n",
        "\n",
        "f1=Fibonaaci()\n",
        "print(next(f1))"
      ],
      "metadata": {
        "colab": {
          "base_uri": "https://localhost:8080/"
        },
        "id": "hIacIPG8Gu9n",
        "outputId": "05ab6716-58c0-4288-acec-338d5f1ed4ba"
      },
      "execution_count": 111,
      "outputs": [
        {
          "output_type": "stream",
          "name": "stdout",
          "text": [
            "0\n"
          ]
        }
      ]
    },
    {
      "cell_type": "code",
      "source": [
        "#Create an Iterator\n",
        "class Even:\n",
        "  def __init__(self,max):\n",
        "    self.n=2\n",
        "    self.max=max\n",
        "  def __iter__(self):\n",
        "    return self\n",
        "  def __next__(self):\n",
        "    if self.n<=self.max:\n",
        "      result=self.n\n",
        "      self.n+=2\n",
        "      return result\n",
        "    else:\n",
        "      raise StopIteration\n",
        "numbers=Even(10)\n",
        "print(next(numbers))\n",
        "\n",
        "\n"
      ],
      "metadata": {
        "colab": {
          "base_uri": "https://localhost:8080/"
        },
        "id": "GkT5cTezNpR-",
        "outputId": "9e57f4d9-61e0-4da6-ead8-adfa0fa67d88"
      },
      "execution_count": 113,
      "outputs": [
        {
          "output_type": "stream",
          "name": "stdout",
          "text": [
            "2\n"
          ]
        }
      ]
    },
    {
      "cell_type": "code",
      "source": [
        "#Introduction to OOPs\n",
        "class Student():\n",
        "  def check_pass_fail(self):\n",
        "    if self.marks>40:\n",
        "      print(\"pass\")\n",
        "    else:\n",
        "      print(\"Fail\")\n",
        "  def __init__(self,name,marks):\n",
        "    self.name=name\n",
        "    self.marks=marks\n",
        "\n",
        "    \n",
        "student1=Student(\"SSS\",45)\n",
        "\n",
        "\n",
        "did_pass=student1.check_pass_fail()\n",
        "did_pass"
      ],
      "metadata": {
        "colab": {
          "base_uri": "https://localhost:8080/"
        },
        "id": "srBcJmpWWcfp",
        "outputId": "abd8c1d0-6fe7-4318-f26b-779e65fe7e43"
      },
      "execution_count": 4,
      "outputs": [
        {
          "output_type": "stream",
          "name": "stdout",
          "text": [
            "pass\n"
          ]
        }
      ]
    },
    {
      "cell_type": "code",
      "source": [
        "#OOps example\n",
        "class Complex:\n",
        "  def __init__(self,real,imag):\n",
        "    self.real=real\n",
        "    self.imag=imag\n",
        "  def add(self,number):\n",
        "    real=self.real+number.real\n",
        "    imag=self.imag+number.imag\n",
        "    result=Complex(real,imag)\n",
        "    return result\n",
        "n1=Complex(5,6)\n",
        "n2=Complex(-1,4)\n",
        "result=n1.add(n2)\n",
        "print(result.real)\n",
        "print(result.imag)\n",
        "    "
      ],
      "metadata": {
        "colab": {
          "base_uri": "https://localhost:8080/"
        },
        "id": "kpkSHD_PcQvJ",
        "outputId": "55c1abe6-6ec0-4080-bf05-1059535aeaf3"
      },
      "execution_count": 5,
      "outputs": [
        {
          "output_type": "stream",
          "name": "stdout",
          "text": [
            "4\n",
            "10\n"
          ]
        }
      ]
    },
    {
      "cell_type": "code",
      "source": [
        "#Inheritance\n",
        "\n",
        "class Animal:\n",
        "  def eat(self):\n",
        "    print(\"I can eat\")\n",
        "class Dog(Animal):\n",
        "  def bark(self):\n",
        "    print(\"I can bark\")\n",
        "class Cat(Animal):\n",
        "  def get_grumpy(self):\n",
        "    print(\"Iam getting grumpy\")\n",
        "\n",
        "dog1=Dog()\n",
        "dog1.bark()\n",
        "dog1.eat()\n",
        "\n",
        "cat1=Cat()\n",
        "cat1.get_grumpy()\n",
        "cat1.eat()\n"
      ],
      "metadata": {
        "colab": {
          "base_uri": "https://localhost:8080/"
        },
        "id": "XsU8-VYW30rU",
        "outputId": "de08f0a4-28c8-410a-cdad-635d993c1123"
      },
      "execution_count": 3,
      "outputs": [
        {
          "output_type": "stream",
          "name": "stdout",
          "text": [
            "I can bark\n",
            "I can eat\n",
            "Iam getting grumpy\n",
            "I can eat\n"
          ]
        }
      ]
    },
    {
      "cell_type": "code",
      "source": [
        "#Perimeter of Quadilateral\n",
        "\n",
        "class Polygon:\n",
        "  def __init__(self,sides):\n",
        "    self.sides=sides\n",
        "\n",
        "  def perimeter(self):\n",
        "    perimeter=sum(self.sides)\n",
        "    return perimeter\n",
        "\n",
        "class Triangle(Polygon):\n",
        "  def display_info(self):\n",
        "    print(\"A Traingle  is a polygon with 3 sides\")\n",
        "\n",
        "class Quadilateral(Polygon):\n",
        "  def display_info(self):\n",
        "    print(\"A Quadilateral has 4 sides\")\n",
        "\n",
        "t1=Triangle([1,2,3])\n",
        "perimeter=t1.perimeter()\n",
        "print(perimeter)\n",
        "\n",
        "q1=Quadilateral([1,2,3,4])\n",
        "perimeter=q1.perimeter()\n",
        "print(perimeter)"
      ],
      "metadata": {
        "colab": {
          "base_uri": "https://localhost:8080/"
        },
        "id": "lJWkW9V18bL9",
        "outputId": "6a0fcca7-21d4-4c93-f8a7-a2e838bc5e3b"
      },
      "execution_count": 7,
      "outputs": [
        {
          "output_type": "stream",
          "name": "stdout",
          "text": [
            "6\n",
            "10\n"
          ]
        }
      ]
    },
    {
      "cell_type": "code",
      "source": [
        " #Sort a list without using Sort keyword\n",
        "\n",
        "list=[9,10,-10,1,3,4,5,78,900]\n",
        "new_list=[]\n",
        "\n",
        "while list:\n",
        "  a=list[0]\n",
        "  for x in list:\n",
        "    if x<a:\n",
        "      a=x\n",
        "  new_list.append(a)\n",
        "  list.remove(a)\n",
        "print(new_list)"
      ],
      "metadata": {
        "colab": {
          "base_uri": "https://localhost:8080/"
        },
        "id": "bRI1ZMf8rOwB",
        "outputId": "f9cfd3d5-d695-4b39-907d-642ffd0bf130"
      },
      "execution_count": 5,
      "outputs": [
        {
          "output_type": "stream",
          "name": "stdout",
          "text": [
            "[-10, 1, 3, 4, 5, 9, 10, 78, 900]\n"
          ]
        }
      ]
    },
    {
      "cell_type": "code",
      "source": [
        "#Whether string is palindrome or not without using loop\n",
        "s='nitin'\n",
        "if s==s[::-1]:\n",
        "  print(\"It is Palindrome\")\n",
        "else:\n",
        "  print(\"It is not Palindrome\")\n"
      ],
      "metadata": {
        "colab": {
          "base_uri": "https://localhost:8080/"
        },
        "id": "Qpvi4KzuwWjd",
        "outputId": "3ffb5f1a-cb5d-4b72-d6f9-1cf41edd94ba"
      },
      "execution_count": 6,
      "outputs": [
        {
          "output_type": "stream",
          "name": "stdout",
          "text": [
            "It is Palindrome\n"
          ]
        }
      ]
    },
    {
      "cell_type": "code",
      "source": [
        "#Whether string is palindrome or not with using loop\n",
        "t=\"sohil\"\n",
        "n=len(t)\n",
        "x=0\n",
        "for i in range(n):\n",
        "  if t[i] != t[n-i-1]:\n",
        "    x=1\n",
        "    break\n",
        "if x==0:\n",
        "  print(\"Yes Palindrome\")\n",
        "else:\n",
        "  print(\"It is not Palindorme\")"
      ],
      "metadata": {
        "colab": {
          "base_uri": "https://localhost:8080/"
        },
        "id": "2a8BxQ5nyuwz",
        "outputId": "3e0f17b3-fcf2-4cec-88c8-12b5b2ed6f88"
      },
      "execution_count": 25,
      "outputs": [
        {
          "output_type": "stream",
          "name": "stdout",
          "text": [
            "It is not Palindorme\n"
          ]
        }
      ]
    },
    {
      "cell_type": "code",
      "source": [
        "# Sort a dictionary\n",
        "\n",
        "dict1={5:'Apple',7:'Grape',1:'QEEE',-10:'ioioi'}\n",
        "\n",
        "d=sorted(dict1.keys())\n",
        "print(d)\n",
        "\n",
        "for i in d:\n",
        "  dict2[i]=dict1[i]\n",
        "\n",
        "print(dict2)  "
      ],
      "metadata": {
        "colab": {
          "base_uri": "https://localhost:8080/"
        },
        "id": "ex6OTkziyu0T",
        "outputId": "02837e81-dd5e-469b-cf20-d225e88a4b22"
      },
      "execution_count": 29,
      "outputs": [
        {
          "output_type": "stream",
          "name": "stdout",
          "text": [
            "[-10, 1, 5, 7]\n",
            "{-10: 'ioioi', 1: 'QEEE', 5: 'Apple', 7: 'Grape'}\n"
          ]
        }
      ]
    },
    {
      "cell_type": "code",
      "source": [
        "#print all pair for given sum\n",
        "list1=[1,2,3,4,5]\n",
        "k=7\n",
        "n=len(list1)\n",
        "\n",
        "for i in range(n):\n",
        "  for j in range(i+1,n):\n",
        "    if(list1[i]+list1[j])==k:\n",
        "      print(list1[i],list1[j])\n",
        "\n"
      ],
      "metadata": {
        "colab": {
          "base_uri": "https://localhost:8080/"
        },
        "id": "2MBe1IjX4DpM",
        "outputId": "17e0ea29-556f-4f1c-93f0-89cd0140dd25"
      },
      "execution_count": 32,
      "outputs": [
        {
          "output_type": "stream",
          "name": "stdout",
          "text": [
            "2 5\n",
            "3 4\n"
          ]
        }
      ]
    },
    {
      "cell_type": "code",
      "source": [
        "#Print Fib series using recursive function\n",
        "def recursive(n):\n",
        "  if n<=1:\n",
        "    return n\n",
        "  else:\n",
        "    return(recursive(n-1)+recursive(n-2))\n",
        "n_terms=10\n",
        "if n_terms<=0:\n",
        "  print(\"Please give positive number\")\n",
        "else:\n",
        "  for i in range(n_terms):\n",
        "    print(recursive(i))\n"
      ],
      "metadata": {
        "colab": {
          "base_uri": "https://localhost:8080/"
        },
        "id": "-z37J0Kc7eH-",
        "outputId": "916e3519-0328-4fd1-d286-f8b43df38f53"
      },
      "execution_count": 35,
      "outputs": [
        {
          "output_type": "stream",
          "name": "stdout",
          "text": [
            "0\n",
            "1\n",
            "1\n",
            "2\n",
            "3\n",
            "5\n",
            "8\n",
            "13\n",
            "21\n",
            "34\n"
          ]
        }
      ]
    },
    {
      "cell_type": "code",
      "source": [
        "#String Manipulation\n",
        "\n",
        "s=\"The Sky is blue\"\n",
        "l=s.split()\n",
        "l=l[::-1]\n",
        "l=\" \".join(l)\n",
        "print(l)"
      ],
      "metadata": {
        "colab": {
          "base_uri": "https://localhost:8080/"
        },
        "id": "DKEpsfWV7eCE",
        "outputId": "c018d56c-e894-466d-cf26-88bb60a148d9"
      },
      "execution_count": 39,
      "outputs": [
        {
          "output_type": "stream",
          "name": "stdout",
          "text": [
            "blue is Sky The\n"
          ]
        }
      ]
    },
    {
      "cell_type": "code",
      "source": [
        "#Find the count of char in string and find max char in string\n",
        "\n",
        "s=\"iiiyuyyyuyutteeeoooxnjncchugvd\"\n",
        "ch={}\n",
        "for p in s:\n",
        "\n",
        "  if p in ch:\n",
        "    ch[p]+=1\n",
        "  else:\n",
        "    ch[p]=1\n",
        "print(ch)\n",
        "\n",
        "max_char=max(ch,key=lambda x: ch[x])\n",
        "print(max_char)"
      ],
      "metadata": {
        "colab": {
          "base_uri": "https://localhost:8080/"
        },
        "id": "KjLGhg5p9HJQ",
        "outputId": "b2da3c1a-c98b-438c-e0b6-fe2bf9df9580"
      },
      "execution_count": 55,
      "outputs": [
        {
          "output_type": "stream",
          "name": "stdout",
          "text": [
            "{'i': 3, 'y': 5, 'u': 4, 't': 2, 'e': 3, 'o': 3, 'x': 1, 'n': 2, 'j': 1, 'c': 2, 'h': 1, 'g': 1, 'v': 1, 'd': 1}\n",
            "y\n"
          ]
        }
      ]
    },
    {
      "cell_type": "code",
      "source": [
        "#Min Max without using predifined func\n",
        "\n",
        "list1=[1,2,3,0,-3,4,5]\n",
        "n=len(list1)\n",
        "for i in list1:\n",
        "  min=i\n",
        "  max=i\n",
        "  for j in list1:\n",
        "    if min<j:\n",
        "      pass\n",
        "    else:\n",
        "      min=j\n",
        "    if max>j:\n",
        "      pass\n",
        "    else:\n",
        "      max=j\n",
        "\n",
        "print(min)\n",
        "print(max)"
      ],
      "metadata": {
        "colab": {
          "base_uri": "https://localhost:8080/"
        },
        "id": "2AxKUvTfAw3h",
        "outputId": "90ea2566-4c35-4842-d73f-8694cf27a583"
      },
      "execution_count": 72,
      "outputs": [
        {
          "output_type": "stream",
          "name": "stdout",
          "text": [
            "-3\n",
            "5\n"
          ]
        }
      ]
    },
    {
      "cell_type": "code",
      "source": [
        "#raise a Exception if element is a list\n",
        "\n",
        "l=[1,2,3]\n",
        "sum=0\n",
        "for i in l:\n",
        "  if i==1:\n",
        "    raise Exception(\"Exception: 1 is found\")\n",
        "  else:\n",
        "    sum+=i"
      ],
      "metadata": {
        "colab": {
          "base_uri": "https://localhost:8080/",
          "height": 235
        },
        "id": "Q3ik03-TK9tu",
        "outputId": "9983430b-1cab-4c1b-f506-8aaecffad663"
      },
      "execution_count": 75,
      "outputs": [
        {
          "output_type": "error",
          "ename": "Exception",
          "evalue": "ignored",
          "traceback": [
            "\u001b[0;31m---------------------------------------------------------------------------\u001b[0m",
            "\u001b[0;31mException\u001b[0m                                 Traceback (most recent call last)",
            "\u001b[0;32m<ipython-input-75-9ff4f07ea158>\u001b[0m in \u001b[0;36m<module>\u001b[0;34m\u001b[0m\n\u001b[1;32m      5\u001b[0m \u001b[0;32mfor\u001b[0m \u001b[0mi\u001b[0m \u001b[0;32min\u001b[0m \u001b[0ml\u001b[0m\u001b[0;34m:\u001b[0m\u001b[0;34m\u001b[0m\u001b[0;34m\u001b[0m\u001b[0m\n\u001b[1;32m      6\u001b[0m   \u001b[0;32mif\u001b[0m \u001b[0mi\u001b[0m\u001b[0;34m==\u001b[0m\u001b[0;36m1\u001b[0m\u001b[0;34m:\u001b[0m\u001b[0;34m\u001b[0m\u001b[0;34m\u001b[0m\u001b[0m\n\u001b[0;32m----> 7\u001b[0;31m     \u001b[0;32mraise\u001b[0m \u001b[0mException\u001b[0m\u001b[0;34m(\u001b[0m\u001b[0;34m\"Exception: 1 is found\"\u001b[0m\u001b[0;34m)\u001b[0m\u001b[0;34m\u001b[0m\u001b[0;34m\u001b[0m\u001b[0m\n\u001b[0m\u001b[1;32m      8\u001b[0m   \u001b[0;32melse\u001b[0m\u001b[0;34m:\u001b[0m\u001b[0;34m\u001b[0m\u001b[0;34m\u001b[0m\u001b[0m\n\u001b[1;32m      9\u001b[0m     \u001b[0msum\u001b[0m\u001b[0;34m+=\u001b[0m\u001b[0mi\u001b[0m\u001b[0;34m\u001b[0m\u001b[0;34m\u001b[0m\u001b[0m\n",
            "\u001b[0;31mException\u001b[0m: Exception: 1 is found"
          ]
        }
      ]
    },
    {
      "cell_type": "code",
      "source": [
        "try:\n",
        "    numerator = 10\n",
        "    denominator = 10\n",
        "\n",
        "    result = numerator/denominator\n",
        "\n",
        "    print(result)\n",
        "except:\n",
        "    print(\"Error: Denominator cannot be 0.\")"
      ],
      "metadata": {
        "colab": {
          "base_uri": "https://localhost:8080/"
        },
        "id": "Al_Y9drDNyTu",
        "outputId": "d64de439-a59b-491f-e18b-e0c3f8490058"
      },
      "execution_count": 77,
      "outputs": [
        {
          "output_type": "stream",
          "name": "stdout",
          "text": [
            "1.0\n"
          ]
        }
      ]
    },
    {
      "cell_type": "markdown",
      "source": [
        "bold text"
      ],
      "metadata": {
        "id": "sN9p0v3YrN4w"
      }
    }
  ]
}