{
  "nbformat": 4,
  "nbformat_minor": 0,
  "metadata": {
    "colab": {
      "provenance": [],
      "include_colab_link": true
    },
    "kernelspec": {
      "name": "python3",
      "display_name": "Python 3"
    },
    "language_info": {
      "name": "python"
    }
  },
  "cells": [
    {
      "cell_type": "markdown",
      "metadata": {
        "id": "view-in-github",
        "colab_type": "text"
      },
      "source": [
        "<a href=\"https://colab.research.google.com/github/sohil344/python_practise/blob/main/try_exception.ipynb\" target=\"_parent\"><img src=\"https://colab.research.google.com/assets/colab-badge.svg\" alt=\"Open In Colab\"/></a>"
      ]
    },
    {
      "cell_type": "markdown",
      "source": [
        "## Exception Handling\n"
      ],
      "metadata": {
        "id": "ajVfqio_GinI"
      }
    },
    {
      "cell_type": "markdown",
      "source": [
        "###`Q-1`: You are given a function definition. There might be several issues on execution of this function. You are asked to do exception handling for diffrent errors that this function goes in to `without altering this function`. And print error text.\n",
        "\n"
      ],
      "metadata": {
        "id": "0qnQkJtnGozz"
      }
    },
    {
      "cell_type": "markdown",
      "source": [
        "Function parameters `l -> list, s -> could be anything`\n",
        "\n",
        "```\n",
        "def function(l: list, s, **args):\n",
        "    last_element = l[-1]\n",
        "    \n",
        "    l[int(s)]=10\n",
        "    any_element = l[int(s)+10]\n",
        "    l[s]=10\n",
        "    \n",
        "    res = sum(l)\n",
        "    \n",
        "    p = args['p']\n",
        "    # print(p)\n",
        "    return res/last_element * p + any_element\n",
        "\n",
        "```\n",
        "Check for different function calls:-\n",
        "\n",
        "```\n",
        "function([1,2,1], 12)\n",
        "function([1,2,1]*9, '1-2')\n",
        "function([1,'2',1]*9, 12)\n",
        "function([1,'2',1]*9, 12)\n",
        "function([1,2,0]*9, 12  )\n",
        "function([1,2,1]*9, 12, p=None)\n",
        "function([1,2,0]*9, 12, p=10)\n",
        "```"
      ],
      "metadata": {
        "id": "2no_EB2fGyGq"
      }
    },
    {
      "cell_type": "code",
      "source": [
        "l=[1,2,1]\n",
        "s=12\n",
        "l[int(s)]=10\n"
      ],
      "metadata": {
        "id": "X16wGKRybA4q",
        "outputId": "cb04cfbb-aa8b-4012-8a11-d06410fe7627",
        "colab": {
          "base_uri": "https://localhost:8080/",
          "height": 200
        }
      },
      "execution_count": 4,
      "outputs": [
        {
          "output_type": "error",
          "ename": "IndexError",
          "evalue": "ignored",
          "traceback": [
            "\u001b[0;31m---------------------------------------------------------------------------\u001b[0m",
            "\u001b[0;31mIndexError\u001b[0m                                Traceback (most recent call last)",
            "\u001b[0;32m<ipython-input-4-6a43058d5b05>\u001b[0m in \u001b[0;36m<module>\u001b[0;34m\u001b[0m\n\u001b[1;32m      1\u001b[0m \u001b[0ml\u001b[0m\u001b[0;34m=\u001b[0m\u001b[0;34m[\u001b[0m\u001b[0;36m1\u001b[0m\u001b[0;34m,\u001b[0m\u001b[0;36m2\u001b[0m\u001b[0;34m,\u001b[0m\u001b[0;36m1\u001b[0m\u001b[0;34m]\u001b[0m\u001b[0;34m\u001b[0m\u001b[0;34m\u001b[0m\u001b[0m\n\u001b[1;32m      2\u001b[0m \u001b[0ms\u001b[0m\u001b[0;34m=\u001b[0m\u001b[0;36m12\u001b[0m\u001b[0;34m\u001b[0m\u001b[0;34m\u001b[0m\u001b[0m\n\u001b[0;32m----> 3\u001b[0;31m \u001b[0ml\u001b[0m\u001b[0;34m[\u001b[0m\u001b[0mint\u001b[0m\u001b[0;34m(\u001b[0m\u001b[0ms\u001b[0m\u001b[0;34m)\u001b[0m\u001b[0;34m]\u001b[0m\u001b[0;34m=\u001b[0m\u001b[0;36m10\u001b[0m\u001b[0;34m\u001b[0m\u001b[0;34m\u001b[0m\u001b[0m\n\u001b[0m",
            "\u001b[0;31mIndexError\u001b[0m: list assignment index out of range"
          ]
        }
      ]
    },
    {
      "cell_type": "code",
      "source": [
        "# Write code here\n",
        "def function(l: list, s, **args):\n",
        "    last_element = l[-1]\n",
        "\n",
        "    l[int(s)]=10\n",
        "    any_element = l[int(s)+10]\n",
        "    l[s]=10\n",
        "\n",
        "    res = sum(l)\n",
        "\n",
        "    p = args['p']\n",
        "    # print(p)\n",
        "    return res/last_element * p + any_element"
      ],
      "metadata": {
        "id": "VoaL4_9eGjFU"
      },
      "execution_count": 1,
      "outputs": []
    },
    {
      "cell_type": "code",
      "source": [
        "try:\n",
        "  res=function([1,2,1]*9, 12, p=10)\n",
        "except IndexError as i:\n",
        "  print(type(i))\n",
        "  print(i)\n",
        "except ValueError as v:\n",
        "  print(type(v))\n",
        "  print(v)\n",
        "except TypeError as t:\n",
        "  print(type(t))\n",
        "  print(t)\n",
        "except KeyError as k:\n",
        "  print(type(k))\n",
        "  print(k)\n",
        "except ZeroDivisionError as d:\n",
        "  print(type(d))\n",
        "  print(d)\n",
        "else:\n",
        "  print(\"Result--\",res)\n",
        "finally:\n",
        "  print(\"Thank-You\")"
      ],
      "metadata": {
        "id": "JQ9Q6Zubc4n0",
        "outputId": "36dc96d3-f7ef-4fe1-cbd9-953e02db79d0",
        "colab": {
          "base_uri": "https://localhost:8080/"
        }
      },
      "execution_count": 17,
      "outputs": [
        {
          "output_type": "stream",
          "name": "stdout",
          "text": [
            "Result-- 452.0\n",
            "Thank-You\n"
          ]
        }
      ]
    },
    {
      "cell_type": "markdown",
      "source": [
        "###`Q-2:` You are given a code snippet. There might be several issues on execution of this code. You are asked to do exception handling for diffrent errors, condition is what ever happens we need to execute last line printing correct result of `sum of elements`.\n",
        "\n",
        "List have elemnts as any no of  `key-pair dict with key as list index and value as any integer`, `integers` and `numeric-strings`. There is always only one element in the dict.\n",
        "\n",
        "\n",
        "```\n",
        "l = [{0:2},2,3,4,'5', {5:10}]\n",
        "# For calculating sum of above list\n",
        "s=0\n",
        "for i in range(len(l)):\n",
        "    #You can Edit code from here\n",
        "    s += l[i].get(i)\n",
        "    s += l[i]\n",
        "    s += int(l[i])\n",
        "\n",
        "\n",
        "print(s)\n",
        "```"
      ],
      "metadata": {
        "id": "HuLMy2fVG9sL"
      }
    },
    {
      "cell_type": "code",
      "source": [
        "# Write code here\n",
        "l = [{0:2},2,3,4,'5', {5:10}]\n",
        "# For calculating sum of above list\n",
        "s=0\n",
        "for i in range(len(l)):\n",
        "  try:\n",
        "    s+=s[i]\n",
        "  except TypeError:\n",
        "    try:\n",
        "      s+=l[i].get(i)\n",
        "    except AttributeError:\n",
        "      s+=int(l[i])\n",
        "    \n",
        "\n",
        "\n",
        "\n",
        "print(s)"
      ],
      "metadata": {
        "id": "pEP8JU0qHAf8",
        "outputId": "ecb4ec5f-a0e5-44e9-d307-fb223469074a",
        "colab": {
          "base_uri": "https://localhost:8080/"
        }
      },
      "execution_count": 18,
      "outputs": [
        {
          "output_type": "stream",
          "name": "stdout",
          "text": [
            "26\n"
          ]
        }
      ]
    },
    {
      "cell_type": "markdown",
      "source": [
        "### `Q-3:`: File Handling with Exception handling\n",
        "\n",
        "Write a program that opens a text file and write data to it as \"Hello, Good Morning!!!\". Handle exceptions that can be generated during the I/O operations. Do not show the success message on the main exception handling block (write inside the else block)."
      ],
      "metadata": {
        "id": "ohE2fDTXHIan"
      }
    },
    {
      "cell_type": "code",
      "source": [
        "# write code here\n",
        "try:\n",
        "  with open('Sample.txt','w') as f:\n",
        "    f.write(\"Hello, Good Morning!!!\")\n",
        "except IOError:\n",
        "  print(\"Error in handling file\")\n",
        "else:\n",
        "  print(\"File written successfully\")\n",
        "\n"
      ],
      "metadata": {
        "id": "iOeiWrcIHPlY",
        "outputId": "dd10711a-88da-4753-94cd-e6fca449a177",
        "colab": {
          "base_uri": "https://localhost:8080/"
        }
      },
      "execution_count": 21,
      "outputs": [
        {
          "output_type": "stream",
          "name": "stdout",
          "text": [
            "File written successfully\n"
          ]
        }
      ]
    },
    {
      "cell_type": "markdown",
      "source": [
        "### `Q-4`: Number game program.\n",
        "\n",
        "Write a number game program. Ask the user to enter a number. If the number is greater than number to be guessed, raise a **ValueTooLarge** exception. If the value is smaller the number to be guessed the, raise a **ValueTooSmall** exception and prompt the user to enter again. Quit the program only when the user enters the correct number. Also raise **GuessError** if user guess a number less than 1."
      ],
      "metadata": {
        "id": "ru8g8-_bHTUf"
      }
    },
    {
      "cell_type": "code",
      "source": [
        "# Write code here\n",
        "import random\n",
        "class ValueTooLarge(Exception):\n",
        "\n",
        "  def display(self):\n",
        "    print(\"Value to Large\")\n",
        "\n",
        "class ValueTooSmall(Exception):\n",
        "\n",
        "  def display(self):\n",
        "    print(\"Value to Small\")  \n",
        "\n",
        "class GuessError(Exception):\n",
        "\n",
        "  def display(self):\n",
        "    print(\"Wrong Guess!! Try Again!!\")\n",
        "\n",
        "num=random.randint(1,100)\n",
        "\n",
        "while 1:\n",
        "  try:\n",
        "    guess=int(input(\"Guess a Number\"))\n",
        "    if guess<1:\n",
        "      raise GuessError\n",
        "    elif guess>num:\n",
        "      raise ValueTooLarge\n",
        "    elif guess<num:\n",
        "      raise ValueTooSmall\n",
        "    elif guess==num:\n",
        "      print(\"Bhadai Ho\")\n",
        "      break\n",
        "  except ValueTooLarge as s:\n",
        "    s.display()\n",
        "\n",
        "  except ValueTooSmall as s:\n",
        "    s.display()\n",
        "  except GuessError as s:\n",
        "    s.display()\n",
        "\n",
        "\n",
        "\n",
        "\n",
        "\n"
      ],
      "metadata": {
        "id": "QftlN5LJHZSX",
        "outputId": "0f4d674c-9e7a-40cf-b15a-b89eed136913",
        "colab": {
          "base_uri": "https://localhost:8080/"
        }
      },
      "execution_count": 24,
      "outputs": [
        {
          "output_type": "stream",
          "name": "stdout",
          "text": [
            "Guess a Number10\n",
            "Value to Small\n",
            "Guess a Number11\n",
            "Value to Small\n",
            "Guess a Number25\n",
            "Value to Small\n",
            "Guess a Number50\n",
            "Value to Small\n",
            "Guess a Number79\n",
            "Value to Small\n",
            "Guess a Number80\n",
            "Value to Small\n",
            "Guess a Number81\n",
            "Bhadi Ho\n"
          ]
        }
      ]
    },
    {
      "cell_type": "markdown",
      "source": [
        "### `Q-5:` Cast vote\n",
        "\n",
        "Write a program that validate name and age as entered by the user to determine whether the person can cast vote or not. To handle the age, create **InvalidAge** exception and for name, create **InvalidName** exception. The name will be invalid when the string will be empty or name has only one word.\n",
        "\n",
        "Example 1:\n",
        "\n",
        "Input:\n",
        "\n",
        "```bash\n",
        "Enter the name:               goransh singh\n",
        "Enter the age: 25\n",
        "```\n",
        "\n",
        "Output:\n",
        "\n",
        "```bash\n",
        "Goransh Singh  Congratulation !!! You can vote.\n",
        "```"
      ],
      "metadata": {
        "id": "ZsGI_40fHcsd"
      }
    },
    {
      "cell_type": "code",
      "source": [
        "# Write code here\n",
        "class Invalidage(Exception):\n",
        "  def dispaly(self):\n",
        "    print(\"Sorry!! Age is below 18\")\n",
        "  \n",
        "class InvalidName(Exception):\n",
        "  def display(self):\n",
        "    print(\"Sorryy!! Invalid Name\")\n",
        "try:\n",
        "  name=input(\"enter your Name: \")\n",
        "  if len(name)==0 or len(name.split())<2:\n",
        "    raise InvalidName\n",
        "  age=int(input(\"Enter Your Age\"))\n",
        "  if age<18:\n",
        "    raise Invalidage\n",
        "except InvalidName as i:\n",
        "  i.display()\n",
        "except Invalidage as i:\n",
        "  i.display()\n",
        "else:\n",
        "  print(\"Your vote is accepted successfully\")\n",
        "finally:\n",
        "  print(\"Thank--You\")\n",
        "\n",
        "\n",
        "\n",
        "\n",
        "\n",
        "\n",
        "\n",
        "\n"
      ],
      "metadata": {
        "id": "OHL3UiS4Hi3U",
        "outputId": "a4210336-0f5c-410e-85f5-aa2b4fd23a9f",
        "colab": {
          "base_uri": "https://localhost:8080/"
        }
      },
      "execution_count": 30,
      "outputs": [
        {
          "output_type": "stream",
          "name": "stdout",
          "text": [
            "enter your Name: Sohil Doshi\n",
            "Enter Your Age29\n",
            "Your vote is accepted successfully\n",
            "Thank--You\n"
          ]
        }
      ]
    },
    {
      "cell_type": "markdown",
      "source": [
        "### `Q-6`: Write a python function which infinitely prints natural numbers in a single line. Raise the **StopIteration** exception after displaying first 20 numnbers to exit from the program."
      ],
      "metadata": {
        "id": "SCvs0QjgHlOG"
      }
    },
    {
      "cell_type": "code",
      "source": [
        "# Write code here\n",
        "def display(n):\n",
        "  i=0\n",
        "  while True:\n",
        "    try:\n",
        "    \n",
        "      n+=1\n",
        "      i+=1\n",
        "      if i==21:\n",
        "        raise StopIteration\n",
        "    except StopIteration:\n",
        "      break\n",
        "    else:\n",
        "      print(n,end=' ')\n",
        "display(100)      "
      ],
      "metadata": {
        "id": "Lc5ilNgNHoSx",
        "outputId": "c878a5a4-35f8-44d3-dbb8-53608cb5e1a0",
        "colab": {
          "base_uri": "https://localhost:8080/"
        }
      },
      "execution_count": 34,
      "outputs": [
        {
          "output_type": "stream",
          "name": "stdout",
          "text": [
            "101 102 103 104 105 106 107 108 109 110 111 112 113 114 115 116 117 118 119 120 "
          ]
        }
      ]
    },
    {
      "cell_type": "code",
      "source": [],
      "metadata": {
        "id": "h6AmPspZG_3J"
      },
      "execution_count": null,
      "outputs": []
    }
  ]
}