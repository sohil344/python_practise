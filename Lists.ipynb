{
  "nbformat": 4,
  "nbformat_minor": 0,
  "metadata": {
    "colab": {
      "provenance": [],
      "authorship_tag": "ABX9TyNjSy1Nbo7wlnf6x3EyK0Zr",
      "include_colab_link": true
    },
    "kernelspec": {
      "name": "python3",
      "display_name": "Python 3"
    },
    "language_info": {
      "name": "python"
    }
  },
  "cells": [
    {
      "cell_type": "markdown",
      "metadata": {
        "id": "view-in-github",
        "colab_type": "text"
      },
      "source": [
        "<a href=\"https://colab.research.google.com/github/sohil344/python_practise/blob/main/Lists.ipynb\" target=\"_parent\"><img src=\"https://colab.research.google.com/assets/colab-badge.svg\" alt=\"Open In Colab\"/></a>"
      ]
    },
    {
      "cell_type": "code",
      "execution_count": null,
      "metadata": {
        "colab": {
          "base_uri": "https://localhost:8080/"
        },
        "id": "cYlusQmM_gJi",
        "outputId": "c599c3dd-0083-4ca4-a8fa-900409f806d2"
      },
      "outputs": [
        {
          "output_type": "stream",
          "name": "stdout",
          "text": [
            "[['M', 'y'], ['na', 'me'], ['i', 's'], ['Kh', 'an']]\n"
          ]
        }
      ],
      "source": [
        "#Problem 1: Combine two lists index-wise(columns wise)\n",
        "list1 = [\"M\", \"na\", \"i\", \"Kh\"]\n",
        "list2 = [\"y\", \"me\", \"s\", \"an\"]\n",
        "list3=[]\n",
        "res=[]\n",
        "for i in range(len(list1)):\n",
        "  list3=[list1[i],list2[i]]\n",
        "  res.append(list3)\n",
        "print(res)"
      ]
    },
    {
      "cell_type": "markdown",
      "source": [
        "Problem 2: Add new item to list after a specified item\n",
        "Write a program to add item 7000 after 6000 in the following Python List\n",
        "\n",
        "list1 = [10, 20, [300, 400, [5000, 6000], 500], 30, 40]\n",
        "\n",
        "Output:\n",
        "\n",
        "[10, 20, [300, 400, [5000, 6000, 7000], 500], 30, 40]"
      ],
      "metadata": {
        "id": "eWAzO4L_BiCM"
      }
    },
    {
      "cell_type": "code",
      "source": [
        "list1 = [10, 20, [300, 400, [5000, 6000], 500], 30, 40]\n",
        "i=6000\n",
        "if i in list1:\n",
        "  print(True)\n",
        "else:\n",
        "  print(False)  "
      ],
      "metadata": {
        "colab": {
          "base_uri": "https://localhost:8080/"
        },
        "id": "JHdzkQaB_qye",
        "outputId": "43aa6bae-a4b7-4bb9-bf62-b6b03dc69cbc"
      },
      "execution_count": null,
      "outputs": [
        {
          "output_type": "stream",
          "name": "stdout",
          "text": [
            "False\n"
          ]
        }
      ]
    },
    {
      "cell_type": "code",
      "source": [
        "list1[2][2].append(7000)\n",
        "print(list1)"
      ],
      "metadata": {
        "colab": {
          "base_uri": "https://localhost:8080/"
        },
        "id": "mAOrDx9uB1Vs",
        "outputId": "9d3aaee5-8757-4343-9e34-d0ff1d31ffba"
      },
      "execution_count": null,
      "outputs": [
        {
          "output_type": "stream",
          "name": "stdout",
          "text": [
            "[10, 20, [300, 400, [5000, 6000, 7000], 500], 30, 40]\n"
          ]
        }
      ]
    },
    {
      "cell_type": "markdown",
      "source": [
        "Running Sum on list\n",
        "Write a program to print a list after performing running sum on it.\n",
        "\n",
        "i.e:\n",
        "\n",
        "Input:\n",
        "\n",
        "list1 = [1,2,3,4,5,6]\n",
        "\n",
        "Output:\n",
        "\n",
        "[1,3,6,10,15,21]"
      ],
      "metadata": {
        "id": "vYesKjDLFBH_"
      }
    },
    {
      "cell_type": "code",
      "source": [
        "list1 = [1,2,3,4,5,6]\n",
        "list2=[]\n",
        "for i in range(len(list1)+1):\n",
        "  list2.append(sum(list1[0:i]))\n",
        "print(list2)  "
      ],
      "metadata": {
        "colab": {
          "base_uri": "https://localhost:8080/"
        },
        "id": "xF2u2dJcC7am",
        "outputId": "47b1ac8c-c4f6-4fef-9672-2c51281bb65c"
      },
      "execution_count": null,
      "outputs": [
        {
          "output_type": "stream",
          "name": "stdout",
          "text": [
            "[0, 1, 3, 6, 10, 15, 21]\n"
          ]
        }
      ]
    },
    {
      "cell_type": "markdown",
      "source": [
        "\n",
        "Problem 5: You are given a list of integers. You are asked to make a list by running through elements of the list by adding all elements greater and itself.\n",
        "i.e. Say given list is [2,4,6,10,1] resultant list will be [22,20,10,23].\n",
        "\n",
        "For 1st element 2 ->> these are greater (4+6+10) values and 2 itself so on adding becomes 22.\n",
        "\n",
        "For 2nd element 4 ->> greater elements are (6, 10) and 4 itself, so on adding 20\n",
        "\n",
        "like wise for all other elememts.\n",
        "\n",
        "[2,4,6,10,1]-->[22,20,16,10,23]"
      ],
      "metadata": {
        "id": "Mx5_ClJqGjyR"
      }
    },
    {
      "cell_type": "code",
      "source": [
        "l1 = [2,4,6,10,1]\n",
        "sum=0\n",
        "l2=[]\n",
        "for i in l1:\n",
        "  for j in l1:\n",
        "    if i<=j:\n",
        "      sum=sum+j\n",
        "   \n",
        "  l2.append(sum)\n",
        "  sum=0\n",
        "print(l2)  "
      ],
      "metadata": {
        "colab": {
          "base_uri": "https://localhost:8080/"
        },
        "id": "hBwBLZqbGICJ",
        "outputId": "a9529a35-16d4-4ca6-9313-a35ed5072d3a"
      },
      "execution_count": null,
      "outputs": [
        {
          "output_type": "stream",
          "name": "stdout",
          "text": [
            "[22, 20, 16, 10, 23]\n"
          ]
        }
      ]
    },
    {
      "cell_type": "markdown",
      "source": [
        "Problem 7: Sort a list of alphanumeric strings based on product value of numeric character in it. If in any string there is no numeric character take it's product value as 1.\n",
        "Input:\n",
        "\n",
        "['1ac21', '23fg', '456', '098d','1','kls']\n",
        "\n",
        "Output:\n",
        "\n",
        "['456', '23fg', '1ac21', '1', 'kls', '098d']"
      ],
      "metadata": {
        "id": "miJAD-6gNaC8"
      }
    },
    {
      "cell_type": "code",
      "source": [
        "l1=['1ac21', '23fg', '456', '098d','1','kls']\n",
        "prod_val=[]\n",
        "for i in l1:\n",
        "  product=1\n",
        "  for char in i:\n",
        "    if char.isdigit():\n",
        "      product=product*int(char)\n",
        "  \n",
        "  prod_val.append(product)\n",
        "[i[1] for i in sorted (list(zip(prod_val,l1)),reverse=True)]\n",
        "\n"
      ],
      "metadata": {
        "colab": {
          "base_uri": "https://localhost:8080/"
        },
        "id": "Qq4eUAHjGKBH",
        "outputId": "a99cbf41-c692-4e61-ce44-7eb6558ab918"
      },
      "execution_count": null,
      "outputs": [
        {
          "output_type": "execute_result",
          "data": {
            "text/plain": [
              "['456', '23fg', '1ac21', 'kls', '1', '098d']"
            ]
          },
          "metadata": {},
          "execution_count": 44
        }
      ]
    },
    {
      "cell_type": "markdown",
      "source": [
        "Problem 9: Convert Character Matrix to single String using string comprehension.\n",
        "Example 1:\n",
        "\n",
        "Input:\n",
        "\n",
        "[['c', 'a', 'm', 'p', 'u', 'x'], ['i', 's'], ['b', 'e', 's', 't'], ['c', 'h', 'a', 'n', 'n', 'e', 'l']]\n",
        "\n",
        "Output:\n",
        "\n",
        "campux is best channel"
      ],
      "metadata": {
        "id": "hpt_vn8RQw2l"
      }
    },
    {
      "cell_type": "code",
      "source": [
        "l=[['c', 'a', 'm', 'p', 'u', 'x'], ['i', 's'], ['b', 'e', 's', 't'], ['c', 'h', 'a', 'n', 'n', 'e', 'l']]\n",
        "\n",
        "' '.join([''.join(i) for i in l])\n",
        "  "
      ],
      "metadata": {
        "colab": {
          "base_uri": "https://localhost:8080/",
          "height": 36
        },
        "id": "DSarRq96JWfR",
        "outputId": "326cca9e-dbf4-4273-e011-fe4ad2e2cd77"
      },
      "execution_count": null,
      "outputs": [
        {
          "output_type": "execute_result",
          "data": {
            "text/plain": [
              "'campux is best channel'"
            ],
            "application/vnd.google.colaboratory.intrinsic+json": {
              "type": "string"
            }
          },
          "metadata": {},
          "execution_count": 47
        }
      ]
    },
    {
      "cell_type": "markdown",
      "source": [
        "Problem 10: Add Space between Potential Words.\n",
        "Example:\n",
        "\n",
        "Input:\n",
        "\n",
        "['campusxIs', 'bestFor', 'dataScientist']\n",
        "\n",
        "Output:\n",
        "\n",
        "['campusx Is', 'best For', 'data Scientist']"
      ],
      "metadata": {
        "id": "_NssJVu2S5-d"
      }
    },
    {
      "cell_type": "code",
      "source": [
        "list=['campusxIs', 'bestFor', 'dataScientist']\n",
        "res=[]\n",
        "for i in list:\n",
        "  temp=[[]]\n",
        "  for j in i:\n",
        "    if j.isupper():\n",
        "      temp.append([])\n",
        "    temp[-1].append(j)\n",
        "  temp_string=''\n",
        "  for item in temp:\n",
        "    temp_string=temp_string+''.join(item)+' '\n",
        "  res.append(''.join(temp_string)[:-1])\n",
        "res"
      ],
      "metadata": {
        "colab": {
          "base_uri": "https://localhost:8080/"
        },
        "id": "_GSG920pQ8Es",
        "outputId": "d2d173c4-dad1-40a6-aa61-e1b2ba84af0d"
      },
      "execution_count": null,
      "outputs": [
        {
          "output_type": "execute_result",
          "data": {
            "text/plain": [
              "['campusx Is', 'best For', 'data Scientist']"
            ]
          },
          "metadata": {},
          "execution_count": 57
        }
      ]
    },
    {
      "cell_type": "markdown",
      "source": [
        "Problem 11: Write a program that can perform union operation on 2 lists\n",
        "Example:\n",
        "\n",
        "Input:\n",
        "\n",
        "[1,2,3,4,5,1]\n",
        "\n",
        "[2,3,5,7,8]\n",
        "\n",
        "Output:\n",
        "\n",
        "[1,2,3,4,5,7,8]"
      ],
      "metadata": {
        "id": "vnFtUZRvyrF4"
      }
    },
    {
      "cell_type": "code",
      "source": [
        "import numpy as np\n",
        "l1=[1,2,3,4,5,1]\n",
        "l2=[2,3,5,7,8]\n",
        "l3=[]\n",
        "l1.extend(l2)\n",
        "for i in l1:\n",
        "  if i not in l3:\n",
        "    l3.append(i)\n",
        "l3    "
      ],
      "metadata": {
        "id": "XViEwxTlUxt0",
        "colab": {
          "base_uri": "https://localhost:8080/"
        },
        "outputId": "304fbbd8-280f-4fe6-8ec7-64e91f896b5a"
      },
      "execution_count": 11,
      "outputs": [
        {
          "output_type": "execute_result",
          "data": {
            "text/plain": [
              "[1, 2, 3, 4, 5, 7, 8]"
            ]
          },
          "metadata": {},
          "execution_count": 11
        }
      ]
    },
    {
      "cell_type": "markdown",
      "source": [
        "Problem 12: Write a program that can find the max number of each row of a matrix\n",
        "Example:\n",
        "\n",
        "Input:\n",
        "\n",
        "[[1,2,3],[4,5,6],[7,8,9]]\n",
        "\n",
        "Output:\n",
        "\n",
        "[3,6,9]"
      ],
      "metadata": {
        "id": "9a46_9jS0jtl"
      }
    },
    {
      "cell_type": "code",
      "source": [
        "l1=[[1,2,3],[4,5,6],[7,8,9]]\n",
        "l2=[]\n",
        "for i in l1:\n",
        "  i.sort()\n",
        "  l2.append(i[-1])\n",
        "\n",
        "print(l2)  \n"
      ],
      "metadata": {
        "colab": {
          "base_uri": "https://localhost:8080/"
        },
        "id": "sMhRvU6CzE72",
        "outputId": "643ae459-39c8-41ac-827d-e813089c5966"
      },
      "execution_count": 12,
      "outputs": [
        {
          "output_type": "stream",
          "name": "stdout",
          "text": [
            "[3, 6, 9]\n"
          ]
        }
      ]
    },
    {
      "cell_type": "markdown",
      "source": [
        "Problem 13: Write a list comprehension to print the following matrix\n",
        "\n",
        "[[0, 1, 2], [3, 4, 5], [6, 7, 8]]\n"
      ],
      "metadata": {
        "id": "6qKFqaQZ2pLT"
      }
    },
    {
      "cell_type": "code",
      "source": [
        "l1=[[i+j for j in range(3)] for i in range(0,9,3)]\n",
        "l1"
      ],
      "metadata": {
        "colab": {
          "base_uri": "https://localhost:8080/"
        },
        "id": "_OW_ZPG52jw5",
        "outputId": "ababc86b-64ed-4aba-da70-e4d26b3e7f4b"
      },
      "execution_count": 21,
      "outputs": [
        {
          "output_type": "execute_result",
          "data": {
            "text/plain": [
              "[[0, 1, 2], [3, 4, 5], [6, 7, 8]]"
            ]
          },
          "metadata": {},
          "execution_count": 21
        }
      ]
    },
    {
      "cell_type": "markdown",
      "source": [
        "Problem 14: Write a list comprehension that can transpose a given matrix\n",
        "\n",
        "matrix = [\n",
        "[1,2,3],\n",
        "[4,5,6],\n",
        "[7,8,9]\n",
        "]\n",
        "\n",
        "\n",
        "[1, 4, 7]\n",
        "[2, 5, 8]\n",
        "[3, 6, 9]"
      ],
      "metadata": {
        "id": "3HpnjqTUBDh2"
      }
    },
    {
      "cell_type": "code",
      "source": [
        "matrix = [ [1,2,3], [4,5,6], [7,8,9] ]\n",
        "transpose=[[row[i] for row in matrix]for i in range(3)]\n",
        "\n",
        "transpose\n",
        "\n"
      ],
      "metadata": {
        "colab": {
          "base_uri": "https://localhost:8080/"
        },
        "id": "abm0BLwf6fUd",
        "outputId": "0bf90d3a-2865-4bce-95da-490f2c8d76ed"
      },
      "execution_count": 24,
      "outputs": [
        {
          "output_type": "execute_result",
          "data": {
            "text/plain": [
              "[[1, 4, 7], [2, 5, 8], [3, 6, 9]]"
            ]
          },
          "metadata": {},
          "execution_count": 24
        }
      ]
    },
    {
      "cell_type": "markdown",
      "source": [
        "Problem 15: Write a list comprehension that can flatten a nested list\n",
        "Input\n",
        "\n",
        "matrix = [\n",
        "[1,2,3],\n",
        "[4,5,6],\n",
        "[7,8,9]\n",
        "]\n",
        "\n",
        "Output:\n",
        "\n",
        "[1, 2, 3, 4, 5, 6, 7, 8, 9]"
      ],
      "metadata": {
        "id": "m4XdmiIUCvNv"
      }
    },
    {
      "cell_type": "code",
      "source": [
        "matrix = [[1,2,3], [4,5,6], [7,8,9]]\n",
        "\n",
        "l1=[k for j in matrix for k in j]\n",
        "print(l1)"
      ],
      "metadata": {
        "colab": {
          "base_uri": "https://localhost:8080/"
        },
        "id": "OaCiH7iuCijv",
        "outputId": "3c9fdf93-6e5e-4d20-eda5-da8641b2458c"
      },
      "execution_count": 38,
      "outputs": [
        {
          "output_type": "stream",
          "name": "stdout",
          "text": [
            "[1, 2, 3, 4, 5, 6, 7, 8, 9]\n"
          ]
        }
      ]
    },
    {
      "cell_type": "code",
      "source": [],
      "metadata": {
        "id": "M6zHe3ICDRKp"
      },
      "execution_count": null,
      "outputs": []
    }
  ]
}