{
  "nbformat": 4,
  "nbformat_minor": 0,
  "metadata": {
    "colab": {
      "provenance": [],
      "authorship_tag": "ABX9TyPCImpQMkoUVBMeZCab4m0T",
      "include_colab_link": true
    },
    "kernelspec": {
      "name": "python3",
      "display_name": "Python 3"
    },
    "language_info": {
      "name": "python"
    }
  },
  "cells": [
    {
      "cell_type": "markdown",
      "metadata": {
        "id": "view-in-github",
        "colab_type": "text"
      },
      "source": [
        "<a href=\"https://colab.research.google.com/github/sohil344/python_practise/blob/main/strings.ipynb\" target=\"_parent\"><img src=\"https://colab.research.google.com/assets/colab-badge.svg\" alt=\"Open In Colab\"/></a>"
      ]
    },
    {
      "cell_type": "code",
      "execution_count": 1,
      "metadata": {
        "colab": {
          "base_uri": "https://localhost:8080/"
        },
        "id": "vmdgoLNF8JfC",
        "outputId": "0e85052b-b0b5-4beb-f6a7-bb0e167e3bbf"
      },
      "outputs": [
        {
          "output_type": "stream",
          "name": "stdout",
          "text": [
            "Enter a string sohil\n",
            "Length of string is  5\n"
          ]
        }
      ],
      "source": [
        "#Find lenght of string without using len function\n",
        "\n",
        "s=input(\"Enter a string \")\n",
        "\n",
        "counter=0\n",
        "for i in s:\n",
        "  counter+=1\n",
        "print(\"Length of string is \", counter)"
      ]
    },
    {
      "cell_type": "code",
      "source": [
        "#Extract username from given emailid\n",
        "\n",
        "s=input(\"Enter a emailId \")\n",
        "\n",
        "pos=s.index('@')\n",
        "\n",
        "print(s[0:pos])"
      ],
      "metadata": {
        "colab": {
          "base_uri": "https://localhost:8080/"
        },
        "id": "m2dxuA--8b9p",
        "outputId": "e9cb83da-c9dc-4d15-c981-4e83cb9a45f0"
      },
      "execution_count": 3,
      "outputs": [
        {
          "output_type": "stream",
          "name": "stdout",
          "text": [
            "Enter a emailId Sohil@gmail\n",
            "Sohil\n"
          ]
        }
      ]
    },
    {
      "cell_type": "code",
      "source": [
        "#Write a program to remove a charcter from string\n",
        "\n",
        "s=input(\"Enter a string \")\n",
        "term=input(\"Enter a char to remove \")\n",
        "\n",
        "result=''\n",
        "for i in s:\n",
        "  if i!=term:\n",
        "    result=result+i\n",
        "print(result)    "
      ],
      "metadata": {
        "colab": {
          "base_uri": "https://localhost:8080/"
        },
        "id": "LIX_JJ2d9Muy",
        "outputId": "e97ce233-1a15-4456-d22a-0436cd57a63f"
      },
      "execution_count": 4,
      "outputs": [
        {
          "output_type": "stream",
          "name": "stdout",
          "text": [
            "Enter a stringsohil\n",
            "Enter a char to removes\n",
            "ohil\n"
          ]
        }
      ]
    },
    {
      "cell_type": "code",
      "source": [
        "#write program to check palindrome or not\n",
        "s=input(\"Enter a string\")\n",
        "flag=True\n",
        "for i in range(len(s)//2):\n",
        "  if s[i]!=s[len(s)-i-1]:\n",
        "    flag=False\n",
        "    print(\"It is not palindrome\")\n",
        "    break\n",
        "\n",
        "if flag==True:\n",
        "   print('It is  palindrome')\n"
      ],
      "metadata": {
        "colab": {
          "base_uri": "https://localhost:8080/"
        },
        "id": "QaUpuZoo_YpF",
        "outputId": "120dd246-500f-4595-c566-6a4ff5559734"
      },
      "execution_count": 8,
      "outputs": [
        {
          "output_type": "stream",
          "name": "stdout",
          "text": [
            "Enter a stringmalayalam\n",
            "It is  palindrome\n"
          ]
        }
      ]
    },
    {
      "cell_type": "code",
      "source": [
        "#Write a program to split string without using split function\n",
        "s=input(\"Enter a string\")\n",
        "l=[]\n",
        "temp=''\n",
        "for i in s:\n",
        "  if i!=' ':\n",
        "    temp=temp+i\n",
        "  else:\n",
        "    l.append(temp)\n",
        "    temp=''\n",
        "l.append(temp)\n",
        "print(l)"
      ],
      "metadata": {
        "colab": {
          "base_uri": "https://localhost:8080/"
        },
        "id": "6mmjBoBXCJkT",
        "outputId": "faf804fe-a81f-414b-9d32-7bba8cad99d1"
      },
      "execution_count": 9,
      "outputs": [
        {
          "output_type": "stream",
          "name": "stdout",
          "text": [
            "Enter a stringsohil is smart\n",
            "['sohil', 'is', 'smart']\n"
          ]
        }
      ]
    },
    {
      "cell_type": "code",
      "source": [
        "#write a program to convert string to title case without using title function\n",
        "s=input(\"Enter a string\")\n",
        "l=[]\n",
        "for i in s.split():\n",
        "  l.append(i[0].upper()+i[1:].lower())\n",
        "\n",
        "print(' '.join(l))"
      ],
      "metadata": {
        "colab": {
          "base_uri": "https://localhost:8080/"
        },
        "id": "B68rJNvOGDDh",
        "outputId": "a9306606-c780-4d05-aeea-87b24840db12"
      },
      "execution_count": 10,
      "outputs": [
        {
          "output_type": "stream",
          "name": "stdout",
          "text": [
            "Enter a stringsohil is fine \n",
            "Sohil Is Fine\n"
          ]
        }
      ]
    },
    {
      "cell_type": "code",
      "source": [
        "#Program to convert int to string\n",
        "s=int(input(\"Enter a number\"))\n",
        "digits='0123456789'\n",
        "result=''\n",
        "while s!=0:\n",
        "  result=digits[s%10]+result\n",
        "  s=s//10\n",
        "print(type(result))"
      ],
      "metadata": {
        "colab": {
          "base_uri": "https://localhost:8080/"
        },
        "id": "fj6ONNOlHMag",
        "outputId": "3c6aa42a-fb2e-458d-d7be-b98a7d032775"
      },
      "execution_count": 14,
      "outputs": [
        {
          "output_type": "stream",
          "name": "stdout",
          "text": [
            "Enter a number345\n",
            "<class 'str'>\n"
          ]
        }
      ]
    },
    {
      "cell_type": "code",
      "source": [
        "#Write a program that can remove all the duplicate characters from a string. User will provide the input\n",
        "s=\"sohildoshi\"\n",
        "b=''\n",
        "for i in s:\n",
        "  if i not in b:\n",
        "    b=b+i\n",
        "print(b)"
      ],
      "metadata": {
        "colab": {
          "base_uri": "https://localhost:8080/"
        },
        "id": "fBdU04pRJ_-m",
        "outputId": "cd4c1fee-6d04-4236-8fd3-a676682dafb7"
      },
      "execution_count": 17,
      "outputs": [
        {
          "output_type": "stream",
          "name": "stdout",
          "text": [
            "sohild\n"
          ]
        }
      ]
    },
    {
      "cell_type": "markdown",
      "source": [
        "Problem 19: Word location in String.\n",
        "Statement: Find a location of a word in a given sentence.\n",
        "\n",
        "Example 1:\n",
        "\n",
        "Input:\n",
        "\n",
        "Sentence: We can learn data science through campusx mentorship program.\n",
        "\n",
        "word: campusx\n",
        "Output:\n",
        "\n",
        "Location of the word is 7.\n",
        "Note- Don't use index/find functions"
      ],
      "metadata": {
        "id": "GWcCgp-BXWvU"
      }
    },
    {
      "cell_type": "code",
      "source": [
        "s=input(\"Enter a string\")\n",
        "word=input(\"ENter a word\")\n",
        "\n",
        "counter=0\n",
        "for i in s.split():\n",
        "\n",
        "  counter+=1\n",
        "  if i==word:\n",
        "    \n",
        "    print(\"Location of the word is \",counter)\n",
        "    break\n",
        "\n",
        "    \n",
        "\n",
        "\n",
        "  \n"
      ],
      "metadata": {
        "colab": {
          "base_uri": "https://localhost:8080/"
        },
        "id": "u_k8FyBeW3p2",
        "outputId": "597f640f-59d2-464a-a9c6-d25a8048de75"
      },
      "execution_count": 1,
      "outputs": [
        {
          "output_type": "stream",
          "name": "stdout",
          "text": [
            "Enter a stringWe can learn data science through campusx mentorship program\n",
            "ENter a wordcampusx\n",
            "Location of the word is  7\n"
          ]
        }
      ]
    },
    {
      "cell_type": "markdown",
      "source": [
        "Find uncommon words from two Strings.\n",
        "Statement: Given two sentences as strings A and B. The task is to return a list of all uncommon words. A word is uncommon if it appears exactly once in any one of the sentences, and does not appear in the other sentence. Note: A sentence is a string of space-separated words. Each word consists only of lowercase letters.\n",
        "A = \"apple banana mango\" \n",
        "B = \"banana fruits mango\"\n",
        "\n",
        "Output:\n",
        "\n",
        "['apple', 'fruits']\n"
      ],
      "metadata": {
        "id": "gX31g7JT4IX7"
      }
    },
    {
      "cell_type": "code",
      "source": [
        "s1=input(\"Enter a string\")\n",
        "s2=input(\"Enter a string\")\n",
        "s3=[]\n",
        "for i in s1.split():\n",
        "  if i not in s2.split():\n",
        "    s3.append(i)\n",
        "\n",
        "for j in s2.split():\n",
        "  if j not in s1.split():\n",
        "    s3.append(j)\n",
        "\n",
        "print(s3)    \n"
      ],
      "metadata": {
        "colab": {
          "base_uri": "https://localhost:8080/"
        },
        "id": "uk5m86zl4Mq5",
        "outputId": "8d5e0d35-7525-4135-b3ec-a21d99a5320b"
      },
      "execution_count": 4,
      "outputs": [
        {
          "output_type": "stream",
          "name": "stdout",
          "text": [
            "Enter a stringapple banana mango\n",
            "Enter a stringbanana fruits mango\n",
            "['apple', 'fruits']\n"
          ]
        }
      ]
    },
    {
      "cell_type": "code",
      "source": [],
      "metadata": {
        "id": "15jL9K-Y4ofs"
      },
      "execution_count": null,
      "outputs": []
    }
  ]
}